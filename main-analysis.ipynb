{
 "cells": [
  {
   "cell_type": "markdown",
   "id": "9ddc48e4",
   "metadata": {},
   "source": [
    "REMEMBER:\n",
    "BEFORE START: git pull\n",
    "WHEN FINISH: git add .\n",
    "             git commit -m \"COMMENT\"  # Use a descriptive message!\n",
    "             git push\n"
   ]
  },
  {
   "cell_type": "code",
   "execution_count": null,
   "id": "62a5ac4b",
   "metadata": {},
   "outputs": [],
   "source": []
  },
  {
   "cell_type": "code",
   "execution_count": null,
   "id": "71ebc8f8",
   "metadata": {},
   "outputs": [],
   "source": [
    "import pandas as pd     "
   ]
  },
  {
   "cell_type": "code",
   "execution_count": null,
   "id": "c329b7e5",
   "metadata": {},
   "outputs": [],
   "source": []
  }
 ],
 "metadata": {
  "kernelspec": {
   "display_name": "stroke-project",
   "language": "python",
   "name": "python3"
  },
  "language_info": {
   "codemirror_mode": {
    "name": "ipython",
    "version": 3
   },
   "file_extension": ".py",
   "mimetype": "text/x-python",
   "name": "python",
   "nbconvert_exporter": "python",
   "pygments_lexer": "ipython3",
   "version": "3.9.23"
  }
 },
 "nbformat": 4,
 "nbformat_minor": 5
}
