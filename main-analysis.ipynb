{
  "cells": [
    {
      "cell_type": "markdown",
      "metadata": {},
      "source": [
        "# Machine Learning Project: Stroke Prediction\n",
        "\n",
        "**Name:** Okba Kharef\n",
        "\n",
        "\n",
        "## 1.Context\n",
        "\n",
        "- According to the World Health Organization (WHO) stroke is the 2nd leading cause of death globally, responsible for approximately 11% of total deaths. This dataset is used to predict whether a patient is likely to get stroke based on the input parameters like gender, age, various diseases, and smoking status. Each row in the data provides relavant information about the patient.\n",
        "\n",
        "**Attribute Information**\n",
        "1. **id**: unique identifier\n",
        "\n",
        "2. **gender**: \"Male\", \"Female\" or \"Other\"\n",
        "\n",
        "3. **age**: age of the patient\n",
        "\n",
        "4. **hypertension**: 0 if the patient doesn't have hypertension, 1 if the patient has hypertension\n",
        "\n",
        "5. **heart_disease**: 0 if the patient doesn't have any heart diseases, 1 if the patient has a heart disease\n",
        "\n",
        "6. **ever_married**: \"No\" or \"Yes\"\n",
        "\n",
        "7. **work_type**: \"children\", \"Govt_jov\", \"Never_worked\", \"Private\" or \"Self-employed\"\n",
        "\n",
        "8. **Residence_type**: \"Rural\" or \"Urban\"\n",
        "\n",
        "9. **avg_glucose_level**: average glucose level in blood\n",
        "\n",
        "10. **bmi**: body mass index\n",
        "\n",
        "11. **smoking_status**: \"formerly smoked\", \"never smoked\", \"smokes\" or \"Unknown\"*\n",
        "\n",
        "12. **stroke**: 1 if the patient had a stroke or 0 if not\n",
        "\n",
        "*Note: \"Unknown\" in smoking_status means that the information is unavailable for this patient\n",
        "\n",
        "Reference: https://www.kaggle.com/fedesoriano/stroke-prediction-dataset \n",
        "\n",
        "\n",
        "## 2. Project Objective\n",
        "\n",
        "The goal of this project is to analyze a dataset of patient attributes to predict the likelihood of a stroke. We will perform a comprehensive analysis which includes:\n",
        "\n",
        "1.  **Exploratory Data Analysis (EDA):** To understand the data's structure, features, and identify potential challenges .\n",
        "2.  **Data Preprocessing:** To clean and prepare the data for machine learning models.\n",
        "3.  **Model Training:** To build and train several classification algorithms, including both basic models and more complex ensemble methods.\n",
        "4.  **Model Evaluation & Comparison:** To evaluate the models using appropriate metrics for an imbalanced dataset and to compare their performance to identify the most effective algorithm."
      ]
    },
    {
      "cell_type": "markdown",
      "metadata": {},
      "source": [
        "## 2. Setup: Importing Libraries\n",
        "\n",
        "This first code block is for importing all the necessary Python libraries for the project."
      ]
    },
    {
      "cell_type": "code",
      "execution_count": 655,
      "metadata": {},
      "outputs": [],
      "source": [
        "# For data manipulation and analysis\n",
        "import pandas as pd\n",
        "import numpy as np\n",
        "\n",
        "# For data visualization\n",
        "import matplotlib.pyplot as plt\n",
        "import seaborn as sns\n",
        "import plotly \n",
        "import plotly.express as px\n",
        "import plotly.graph_objs as go\n",
        "import plotly.offline as py\n",
        "from plotly.offline import iplot\n",
        "from plotly.subplots import make_subplots\n",
        "import plotly.figure_factory as ff\n",
        "import missingno as msno\n",
        "\n",
        "\n",
        "from pywaffle import Waffle\n",
        "\n",
        "\n",
        "\n",
        "# For splitting data and preprocessing\n",
        "from sklearn.model_selection import train_test_split\n",
        "from sklearn.preprocessing import StandardScaler # Optional: for scaling numerical features\n",
        "\n",
        "# For handling class imbalance\n",
        "from imblearn.over_sampling import SMOTE\n",
        "\n",
        "# Machine Learning Models\n",
        "from sklearn.linear_model import LogisticRegression\n",
        "from sklearn.neighbors import KNeighborsClassifier\n",
        "from sklearn.tree import DecisionTreeRegressor,DecisionTreeClassifier\n",
        "from sklearn.ensemble import RandomForestClassifier\n",
        "from sklearn.ensemble import GradientBoostingClassifier\n",
        "from sklearn.pipeline import Pipeline\n",
        "from sklearn.model_selection import KFold, GridSearchCV\n",
        "from scipy.stats import wilcoxon\n",
        "\n",
        "# For evaluating model performance\n",
        "from sklearn.metrics import classification_report, confusion_matrix, roc_auc_score, f1_score, accuracy_score, precision_score, recall_score,mean_squared_error, mean_absolute_error, make_scorer\n",
        "\n",
        "\n",
        "\n",
        "\n",
        "\n",
        "\n",
        "# To ignore warnings\n",
        "import warnings\n",
        "warnings.filterwarnings('ignore')"
      ]
    },
    {
      "cell_type": "markdown",
      "metadata": {},
      "source": [
        "## 3. Loading the Data\n",
        "\n",
        "Here, we load the dataset from the CSV file into a pandas DataFrame."
      ]
    },
    {
      "cell_type": "code",
      "execution_count": 656,
      "metadata": {},
      "outputs": [],
      "source": [
        "# Load the dataset\n",
        "#dataset URL= https://www.kaggle.com/datasets/fedesoriano/stroke-prediction-dataset\n",
        "df = pd.read_csv('Data/healthcare-dataset-stroke-data.csv')\n"
      ]
    },
    {
      "cell_type": "markdown",
      "metadata": {},
      "source": [
        "## 4. Exploratory Data Analysis (EDA)\n",
        "\n",
        "In this section, we explore the data to understand its properties and find any issues that need to be addressed."
      ]
    },
    {
      "cell_type": "markdown",
      "metadata": {},
      "source": [
        "### 4.1. Initial Data Inspection\n",
        "\n",
        "Let's look at the first few rows, the data types, and a statistical summary."
      ]
    },
    {
      "cell_type": "code",
      "execution_count": 657,
      "metadata": {},
      "outputs": [
        {
          "data": {
            "text/html": [
              "<div>\n",
              "<style scoped>\n",
              "    .dataframe tbody tr th:only-of-type {\n",
              "        vertical-align: middle;\n",
              "    }\n",
              "\n",
              "    .dataframe tbody tr th {\n",
              "        vertical-align: top;\n",
              "    }\n",
              "\n",
              "    .dataframe thead th {\n",
              "        text-align: right;\n",
              "    }\n",
              "</style>\n",
              "<table border=\"1\" class=\"dataframe\">\n",
              "  <thead>\n",
              "    <tr style=\"text-align: right;\">\n",
              "      <th></th>\n",
              "      <th>id</th>\n",
              "      <th>gender</th>\n",
              "      <th>age</th>\n",
              "      <th>hypertension</th>\n",
              "      <th>heart_disease</th>\n",
              "      <th>ever_married</th>\n",
              "      <th>work_type</th>\n",
              "      <th>Residence_type</th>\n",
              "      <th>avg_glucose_level</th>\n",
              "      <th>bmi</th>\n",
              "      <th>smoking_status</th>\n",
              "      <th>stroke</th>\n",
              "    </tr>\n",
              "  </thead>\n",
              "  <tbody>\n",
              "    <tr>\n",
              "      <th>0</th>\n",
              "      <td>9046</td>\n",
              "      <td>Male</td>\n",
              "      <td>67.0</td>\n",
              "      <td>0</td>\n",
              "      <td>1</td>\n",
              "      <td>Yes</td>\n",
              "      <td>Private</td>\n",
              "      <td>Urban</td>\n",
              "      <td>228.69</td>\n",
              "      <td>36.6</td>\n",
              "      <td>formerly smoked</td>\n",
              "      <td>1</td>\n",
              "    </tr>\n",
              "    <tr>\n",
              "      <th>1</th>\n",
              "      <td>51676</td>\n",
              "      <td>Female</td>\n",
              "      <td>61.0</td>\n",
              "      <td>0</td>\n",
              "      <td>0</td>\n",
              "      <td>Yes</td>\n",
              "      <td>Self-employed</td>\n",
              "      <td>Rural</td>\n",
              "      <td>202.21</td>\n",
              "      <td>NaN</td>\n",
              "      <td>never smoked</td>\n",
              "      <td>1</td>\n",
              "    </tr>\n",
              "    <tr>\n",
              "      <th>2</th>\n",
              "      <td>31112</td>\n",
              "      <td>Male</td>\n",
              "      <td>80.0</td>\n",
              "      <td>0</td>\n",
              "      <td>1</td>\n",
              "      <td>Yes</td>\n",
              "      <td>Private</td>\n",
              "      <td>Rural</td>\n",
              "      <td>105.92</td>\n",
              "      <td>32.5</td>\n",
              "      <td>never smoked</td>\n",
              "      <td>1</td>\n",
              "    </tr>\n",
              "    <tr>\n",
              "      <th>3</th>\n",
              "      <td>60182</td>\n",
              "      <td>Female</td>\n",
              "      <td>49.0</td>\n",
              "      <td>0</td>\n",
              "      <td>0</td>\n",
              "      <td>Yes</td>\n",
              "      <td>Private</td>\n",
              "      <td>Urban</td>\n",
              "      <td>171.23</td>\n",
              "      <td>34.4</td>\n",
              "      <td>smokes</td>\n",
              "      <td>1</td>\n",
              "    </tr>\n",
              "    <tr>\n",
              "      <th>4</th>\n",
              "      <td>1665</td>\n",
              "      <td>Female</td>\n",
              "      <td>79.0</td>\n",
              "      <td>1</td>\n",
              "      <td>0</td>\n",
              "      <td>Yes</td>\n",
              "      <td>Self-employed</td>\n",
              "      <td>Rural</td>\n",
              "      <td>174.12</td>\n",
              "      <td>24.0</td>\n",
              "      <td>never smoked</td>\n",
              "      <td>1</td>\n",
              "    </tr>\n",
              "  </tbody>\n",
              "</table>\n",
              "</div>"
            ],
            "text/plain": [
              "      id  gender   age  hypertension  heart_disease ever_married  \\\n",
              "0   9046    Male  67.0             0              1          Yes   \n",
              "1  51676  Female  61.0             0              0          Yes   \n",
              "2  31112    Male  80.0             0              1          Yes   \n",
              "3  60182  Female  49.0             0              0          Yes   \n",
              "4   1665  Female  79.0             1              0          Yes   \n",
              "\n",
              "       work_type Residence_type  avg_glucose_level   bmi   smoking_status  \\\n",
              "0        Private          Urban             228.69  36.6  formerly smoked   \n",
              "1  Self-employed          Rural             202.21   NaN     never smoked   \n",
              "2        Private          Rural             105.92  32.5     never smoked   \n",
              "3        Private          Urban             171.23  34.4           smokes   \n",
              "4  Self-employed          Rural             174.12  24.0     never smoked   \n",
              "\n",
              "   stroke  \n",
              "0       1  \n",
              "1       1  \n",
              "2       1  \n",
              "3       1  \n",
              "4       1  "
            ]
          },
          "execution_count": 657,
          "metadata": {},
          "output_type": "execute_result"
        }
      ],
      "source": [
        "# Display the first 5 rows of the dataframe\n",
        "df.head()\n"
      ]
    },
    {
      "cell_type": "code",
      "execution_count": 658,
      "metadata": {},
      "outputs": [
        {
          "name": "stdout",
          "output_type": "stream",
          "text": [
            " We have 5110 instances with the 11 features and 1 output variable\n"
          ]
        }
      ],
      "source": [
        "print (f' We have {df.shape[0]} instances with the {df.shape[1]-1} features and 1 output variable')"
      ]
    },
    {
      "cell_type": "code",
      "execution_count": 659,
      "metadata": {},
      "outputs": [
        {
          "name": "stdout",
          "output_type": "stream",
          "text": [
            "<class 'pandas.core.frame.DataFrame'>\n",
            "RangeIndex: 5110 entries, 0 to 5109\n",
            "Data columns (total 12 columns):\n",
            " #   Column             Non-Null Count  Dtype  \n",
            "---  ------             --------------  -----  \n",
            " 0   id                 5110 non-null   int64  \n",
            " 1   gender             5110 non-null   object \n",
            " 2   age                5110 non-null   float64\n",
            " 3   hypertension       5110 non-null   int64  \n",
            " 4   heart_disease      5110 non-null   int64  \n",
            " 5   ever_married       5110 non-null   object \n",
            " 6   work_type          5110 non-null   object \n",
            " 7   Residence_type     5110 non-null   object \n",
            " 8   avg_glucose_level  5110 non-null   float64\n",
            " 9   bmi                4909 non-null   float64\n",
            " 10  smoking_status     5110 non-null   object \n",
            " 11  stroke             5110 non-null   int64  \n",
            "dtypes: float64(3), int64(4), object(5)\n",
            "memory usage: 479.2+ KB\n"
          ]
        }
      ],
      "source": [
        "# Get a concise summary of the dataframe, including data types and non-null values\n",
        "df.info()"
      ]
    },
    {
      "cell_type": "markdown",
      "metadata": {},
      "source": [
        "- In our dataset, we have both numerical and categorical variables.\n",
        "- It is essential to see whether columns are correctly inferred.\n",
        "- The most important one to look for is our target variable 'stroke'\n",
        "- 'Stroke' is detected as an integer, not as an object.\n",
        "- Target variable is coded as 1 for positive cases (has a stroke) and 0 for negative cases (does not have a stroke)\n",
        "- Both 'Hypertension' and 'heart disease\" are detected as an integer, not as an object. \n",
        "- Just remember from the data definition part, they are coded as 1 for the positive cases(has hypertension/heart disease) \n",
        "- And 0 for the negative cases (does not have hypertension/heart disease)\n",
        "- We don't need to change them, but it is good to see and be aware of it.\n",
        "- In addition to them, we have 3 categorical variables, which we have to encode as numerical."
      ]
    },
    {
      "cell_type": "markdown",
      "metadata": {},
      "source": [
        "<a id=\"3\"></a>\n",
        "<font color=\"lightseagreen\" size=+1.5><b>What Problem We Have?</b></font>\n",
        "- We have binary classification problem.\n",
        "- We make prection on the target variable **STROKE**\n",
        "- And we will build a model to get best prediction on the stroke variable."
      ]
    },
    {
      "cell_type": "markdown",
      "metadata": {},
      "source": [
        "<a id=\"4\"></a>\n",
        "<font color=\"lightseagreen\" size=+1.5><b>Target Variable</b></font>\n",
        "\n",
        "\n",
        "- One of the first steps of exploratory data analysis should always be to look at what the values of y look like."
      ]
    },
    {
      "cell_type": "code",
      "execution_count": 660,
      "metadata": {},
      "outputs": [
        {
          "name": "stdout",
          "output_type": "stream",
          "text": [
            "Percentage of patient had a stroke: % 4.87 --> (249 patient)\n",
            "Percentage of patient did not have a stroke: % 95.13 --> (4861 patient)\n"
          ]
        }
      ],
      "source": [
        "y = df['stroke']\n",
        "print(f'Percentage of patient had a stroke: % {round(y.value_counts(normalize=True)[1]*100,2)} --> ({y.value_counts()[1]} patient)\\nPercentage of patient did not have a stroke: % {round(y.value_counts(normalize=True)[0]*100,2)} --> ({y.value_counts()[0]} patient)')"
      ]
    },
    {
      "cell_type": "markdown",
      "metadata": {},
      "source": [
        "- Almost %95 of the instances of our target variable is 'No stroke'\n",
        "-  4861 patient does not have a stroke\n",
        "- %5  of the instances of our target variable is 'Stroke'\n",
        "- 249 patient have a stroke.\n",
        "\n",
        "- We have imbalanced data.\n"
      ]
    },
    {
      "cell_type": "code",
      "execution_count": 661,
      "metadata": {},
      "outputs": [
        {
          "data": {
            "application/vnd.plotly.v1+json": {
              "config": {
                "plotlyServerURL": "https://plot.ly"
              },
              "data": [
                {
                  "bingroup": "x",
                  "hovertemplate": "stroke=%{x}<br>count=%{y}<extra></extra>",
                  "legendgroup": "",
                  "marker": {
                    "color": "#636efa",
                    "pattern": {
                      "shape": ""
                    }
                  },
                  "name": "",
                  "orientation": "v",
                  "showlegend": false,
                  "type": "histogram",
                  "x": {
                    "bdata": "AQEBAQEBAQEBAQEBAQEBAQEBAQEBAQEBAQEBAQEBAQEBAQEBAQEBAQEBAQEBAQEBAQEBAQEBAQEBAQEBAQEBAQEBAQEBAQEBAQEBAQEBAQEBAQEBAQEBAQEBAQEBAQEBAQEBAQEBAQEBAQEBAQEBAQEBAQEBAQEBAQEBAQEBAQEBAQEBAQEBAQEBAQEBAQEBAQEBAQEBAQEBAQEBAQEBAQEBAQEBAQEBAQEBAQEBAQEBAQEBAQEBAQEBAQEBAQEBAQEBAQEBAQEBAQEBAQEBAQEBAQEBAQEBAQEBAQEBAQEBAQEBAQEBAQEBAQEBAQEBAQEBAQEBAQEBAAAAAAAAAAAAAAAAAAAAAAAAAAAAAAAAAAAAAAAAAAAAAAAAAAAAAAAAAAAAAAAAAAAAAAAAAAAAAAAAAAAAAAAAAAAAAAAAAAAAAAAAAAAAAAAAAAAAAAAAAAAAAAAAAAAAAAAAAAAAAAAAAAAAAAAAAAAAAAAAAAAAAAAAAAAAAAAAAAAAAAAAAAAAAAAAAAAAAAAAAAAAAAAAAAAAAAAAAAAAAAAAAAAAAAAAAAAAAAAAAAAAAAAAAAAAAAAAAAAAAAAAAAAAAAAAAAAAAAAAAAAAAAAAAAAAAAAAAAAAAAAAAAAAAAAAAAAAAAAAAAAAAAAAAAAAAAAAAAAAAAAAAAAAAAAAAAAAAAAAAAAAAAAAAAAAAAAAAAAAAAAAAAAAAAAAAAAAAAAAAAAAAAAAAAAAAAAAAAAAAAAAAAAAAAAAAAAAAAAAAAAAAAAAAAAAAAAAAAAAAAAAAAAAAAAAAAAAAAAAAAAAAAAAAAAAAAAAAAAAAAAAAAAAAAAAAAAAAAAAAAAAAAAAAAAAAAAAAAAAAAAAAAAAAAAAAAAAAAAAAAAAAAAAAAAAAAAAAAAAAAAAAAAAAAAAAAAAAAAAAAAAAAAAAAAAAAAAAAAAAAAAAAAAAAAAAAAAAAAAAAAAAAAAAAAAAAAAAAAAAAAAAAAAAAAAAAAAAAAAAAAAAAAAAAAAAAAAAAAAAAAAAAAAAAAAAAAAAAAAAAAAAAAAAAAAAAAAAAAAAAAAAAAAAAAAAAAAAAAAAAAAAAAAAAAAAAAAAAAAAAAAAAAAAAAAAAAAAAAAAAAAAAAAAAAAAAAAAAAAAAAAAAAAAAAAAAAAAAAAAAAAAAAAAAAAAAAAAAAAAAAAAAAAAAAAAAAAAAAAAAAAAAAAAAAAAAAAAAAAAAAAAAAAAAAAAAAAAAAAAAAAAAAAAAAAAAAAAAAAAAAAAAAAAAAAAAAAAAAAAAAAAAAAAAAAAAAAAAAAAAAAAAAAAAAAAAAAAAAAAAAAAAAAAAAAAAAAAAAAAAAAAAAAAAAAAAAAAAAAAAAAAAAAAAAAAAAAAAAAAAAAAAAAAAAAAAAAAAAAAAAAAAAAAAAAAAAAAAAAAAAAAAAAAAAAAAAAAAAAAAAAAAAAAAAAAAAAAAAAAAAAAAAAAAAAAAAAAAAAAAAAAAAAAAAAAAAAAAAAAAAAAAAAAAAAAAAAAAAAAAAAAAAAAAAAAAAAAAAAAAAAAAAAAAAAAAAAAAAAAAAAAAAAAAAAAAAAAAAAAAAAAAAAAAAAAAAAAAAAAAAAAAAAAAAAAAAAAAAAAAAAAAAAAAAAAAAAAAAAAAAAAAAAAAAAAAAAAAAAAAAAAAAAAAAAAAAAAAAAAAAAAAAAAAAAAAAAAAAAAAAAAAAAAAAAAAAAAAAAAAAAAAAAAAAAAAAAAAAAAAAAAAAAAAAAAAAAAAAAAAAAAAAAAAAAAAAAAAAAAAAAAAAAAAAAAAAAAAAAAAAAAAAAAAAAAAAAAAAAAAAAAAAAAAAAAAAAAAAAAAAAAAAAAAAAAAAAAAAAAAAAAAAAAAAAAAAAAAAAAAAAAAAAAAAAAAAAAAAAAAAAAAAAAAAAAAAAAAAAAAAAAAAAAAAAAAAAAAAAAAAAAAAAAAAAAAAAAAAAAAAAAAAAAAAAAAAAAAAAAAAAAAAAAAAAAAAAAAAAAAAAAAAAAAAAAAAAAAAAAAAAAAAAAAAAAAAAAAAAAAAAAAAAAAAAAAAAAAAAAAAAAAAAAAAAAAAAAAAAAAAAAAAAAAAAAAAAAAAAAAAAAAAAAAAAAAAAAAAAAAAAAAAAAAAAAAAAAAAAAAAAAAAAAAAAAAAAAAAAAAAAAAAAAAAAAAAAAAAAAAAAAAAAAAAAAAAAAAAAAAAAAAAAAAAAAAAAAAAAAAAAAAAAAAAAAAAAAAAAAAAAAAAAAAAAAAAAAAAAAAAAAAAAAAAAAAAAAAAAAAAAAAAAAAAAAAAAAAAAAAAAAAAAAAAAAAAAAAAAAAAAAAAAAAAAAAAAAAAAAAAAAAAAAAAAAAAAAAAAAAAAAAAAAAAAAAAAAAAAAAAAAAAAAAAAAAAAAAAAAAAAAAAAAAAAAAAAAAAAAAAAAAAAAAAAAAAAAAAAAAAAAAAAAAAAAAAAAAAAAAAAAAAAAAAAAAAAAAAAAAAAAAAAAAAAAAAAAAAAAAAAAAAAAAAAAAAAAAAAAAAAAAAAAAAAAAAAAAAAAAAAAAAAAAAAAAAAAAAAAAAAAAAAAAAAAAAAAAAAAAAAAAAAAAAAAAAAAAAAAAAAAAAAAAAAAAAAAAAAAAAAAAAAAAAAAAAAAAAAAAAAAAAAAAAAAAAAAAAAAAAAAAAAAAAAAAAAAAAAAAAAAAAAAAAAAAAAAAAAAAAAAAAAAAAAAAAAAAAAAAAAAAAAAAAAAAAAAAAAAAAAAAAAAAAAAAAAAAAAAAAAAAAAAAAAAAAAAAAAAAAAAAAAAAAAAAAAAAAAAAAAAAAAAAAAAAAAAAAAAAAAAAAAAAAAAAAAAAAAAAAAAAAAAAAAAAAAAAAAAAAAAAAAAAAAAAAAAAAAAAAAAAAAAAAAAAAAAAAAAAAAAAAAAAAAAAAAAAAAAAAAAAAAAAAAAAAAAAAAAAAAAAAAAAAAAAAAAAAAAAAAAAAAAAAAAAAAAAAAAAAAAAAAAAAAAAAAAAAAAAAAAAAAAAAAAAAAAAAAAAAAAAAAAAAAAAAAAAAAAAAAAAAAAAAAAAAAAAAAAAAAAAAAAAAAAAAAAAAAAAAAAAAAAAAAAAAAAAAAAAAAAAAAAAAAAAAAAAAAAAAAAAAAAAAAAAAAAAAAAAAAAAAAAAAAAAAAAAAAAAAAAAAAAAAAAAAAAAAAAAAAAAAAAAAAAAAAAAAAAAAAAAAAAAAAAAAAAAAAAAAAAAAAAAAAAAAAAAAAAAAAAAAAAAAAAAAAAAAAAAAAAAAAAAAAAAAAAAAAAAAAAAAAAAAAAAAAAAAAAAAAAAAAAAAAAAAAAAAAAAAAAAAAAAAAAAAAAAAAAAAAAAAAAAAAAAAAAAAAAAAAAAAAAAAAAAAAAAAAAAAAAAAAAAAAAAAAAAAAAAAAAAAAAAAAAAAAAAAAAAAAAAAAAAAAAAAAAAAAAAAAAAAAAAAAAAAAAAAAAAAAAAAAAAAAAAAAAAAAAAAAAAAAAAAAAAAAAAAAAAAAAAAAAAAAAAAAAAAAAAAAAAAAAAAAAAAAAAAAAAAAAAAAAAAAAAAAAAAAAAAAAAAAAAAAAAAAAAAAAAAAAAAAAAAAAAAAAAAAAAAAAAAAAAAAAAAAAAAAAAAAAAAAAAAAAAAAAAAAAAAAAAAAAAAAAAAAAAAAAAAAAAAAAAAAAAAAAAAAAAAAAAAAAAAAAAAAAAAAAAAAAAAAAAAAAAAAAAAAAAAAAAAAAAAAAAAAAAAAAAAAAAAAAAAAAAAAAAAAAAAAAAAAAAAAAAAAAAAAAAAAAAAAAAAAAAAAAAAAAAAAAAAAAAAAAAAAAAAAAAAAAAAAAAAAAAAAAAAAAAAAAAAAAAAAAAAAAAAAAAAAAAAAAAAAAAAAAAAAAAAAAAAAAAAAAAAAAAAAAAAAAAAAAAAAAAAAAAAAAAAAAAAAAAAAAAAAAAAAAAAAAAAAAAAAAAAAAAAAAAAAAAAAAAAAAAAAAAAAAAAAAAAAAAAAAAAAAAAAAAAAAAAAAAAAAAAAAAAAAAAAAAAAAAAAAAAAAAAAAAAAAAAAAAAAAAAAAAAAAAAAAAAAAAAAAAAAAAAAAAAAAAAAAAAAAAAAAAAAAAAAAAAAAAAAAAAAAAAAAAAAAAAAAAAAAAAAAAAAAAAAAAAAAAAAAAAAAAAAAAAAAAAAAAAAAAAAAAAAAAAAAAAAAAAAAAAAAAAAAAAAAAAAAAAAAAAAAAAAAAAAAAAAAAAAAAAAAAAAAAAAAAAAAAAAAAAAAAAAAAAAAAAAAAAAAAAAAAAAAAAAAAAAAAAAAAAAAAAAAAAAAAAAAAAAAAAAAAAAAAAAAAAAAAAAAAAAAAAAAAAAAAAAAAAAAAAAAAAAAAAAAAAAAAAAAAAAAAAAAAAAAAAAAAAAAAAAAAAAAAAAAAAAAAAAAAAAAAAAAAAAAAAAAAAAAAAAAAAAAAAAAAAAAAAAAAAAAAAAAAAAAAAAAAAAAAAAAAAAAAAAAAAAAAAAAAAAAAAAAAAAAAAAAAAAAAAAAAAAAAAAAAAAAAAAAAAAAAAAAAAAAAAAAAAAAAAAAAAAAAAAAAAAAAAAAAAAAAAAAAAAAAAAAAAAAAAAAAAAAAAAAAAAAAAAAAAAAAAAAAAAAAAAAAAAAAAAAAAAAAAAAAAAAAAAAAAAAAAAAAAAAAAAAAAAAAAAAAAAAAAAAAAAAAAAAAAAAAAAAAAAAAAAAAAAAAAAAAAAAAAAAAAAAAAAAAAAAAAAAAAAAAAAAAAAAAAAAAAAAAAAAAAAAAAAAAAAAAAAAAAAAAAAAAAAAAAAAAAAAAAAAAAAAAAAAAAAAAAAAAAAAAAAAAAAAAAAAAAAAAAAAAAAAAAAAAAAAAAAAAAAAAAAAAAAAAAAAAAAAAAAAAAAAAAAAAAAAAAAAAAAAAAAAAAAAAAAAAAAAAAAAAAAAAAAAAAAAAAAAAAAAAAAAAAAAAAAAAAAAAAAAAAAAAAAAAAAAAAAAAAAAAAAAAAAAAAAAAAAAAAAAAAAAAAAAAAAAAAAAAAAAAAAAAAAAAAAAAAAAAAAAAAAAAAAAAAAAAAAAAAAAAAAAAAAAAAAAAAAAAAAAAAAAAAAAAAAAAAAAAAAAAAAAAAAAAAAAAAAAAAAAAAAAAAAAAAAAAAAAAAAAAAAAAAAAAAAAAAAAAAAAAAAAAAAAAAAAAAAAAAAAAAAAAAAAAAAAAAAAAAAAAAAAAAAAAAAAAAAAAAAAAAAAAAAAAAAAAAAAAAAAAAAAAAAAAAAAAAAAAAAAAAAAAAAAAAAAAAAAAAAAAAAAAAAAAAAAAAAAAAAAAAAAAAAAAAAAAAAAAAAAAAAAAAAAAAAAAAAAAAAAAAAAAAAAAAAAAAAAAAAAAAAAAAAAAAAAAAAAAAAAAAAAAAAAAAAAAAAAAAAAAAAAAAAAAAAAAAAAAAAAAAAAAAAAAAAAAAAAAAAAAAAAAAAAAAAAAAAAAAAAAAAAAAAAAAAAAAAAAAAAAAAAAAAAAAAAAAAAAAAAAAAAAAAAAAAAAAAAAAAAAAAAAAAAAAAAAAAAAAAAAAAAAAAAAAAAAAAAAAAAAAAAAAAAAAAAAAAAAAAAAAAAAAAAAAAAAAAAAAAAAAAAAAAAAAAAAAAAAAAAAAAAAAAAAAAAAAAAAAAAAAAAAAAAAAAAAAAAAAAAAAAAAAAAAAAAAAAAAAAAAAAAAAAAAAAAAAAAAAAAAAAAAAAAAAAAAAAAAAAAAAAAAAAAAAAAAAAAAAAAAAAAAAAAAAAAAAAAAAAAAAAAAAAAAAAAAAAAAAAAAAAAAAAAAAAAAAAAAAAAAAAAAAAAAAAAAAAAAAAAAAAAAAAAAAAAAAAAAAAAAAAAAAAAAAAAAAAAAAAAAAAAAAAAAAAAAAAAAAAAAAAAAAAAAAAAAAAAAAAAAAAAAAAAAAAAAAAAAAAAAAAAAAAAAAAAAAAAAAAAAAAAAAAAAAAAAAAAAAAAAAAAAAAAAAAAAAAAAAAAAAAAAAAAAAAAAAAAAAAAAAAAAAAAAAAAAAAAAAAAAAAAAAAAAAAAAAAAAAAAAAAAAAAAAAAAAAAAAAAAAAAAAAAAAAAAAAAAAAAAAAAAAAAAAAAAAAAAAAAAAAAAAAAAAAAAAAAAAAAAAAAAAAAAAAAAAAAAAAAAAAAAAAAAAAAAAAAAAAAAAAAAAAAAAAAAAAAAAAAAAAAAAAAAAAAAAAAAAAAAAAAAAAAAAAAAAAAAAAAAAAAAAAAAAAAAAAAAAAAAAAAAAAAAAAAAAAAAAAAAAAAAAAAAAAAAAAAAAAAAAAAAAAAAAAAAAAAAAAAAAAAAAAAAAAAAAAAAAAAAAAAAAAAAAAAAAAAAAAAAAAAAAAAAAAAAAAAAAAAAAAAAAAAAAAAAAAAAAAAAAAAAAAAAAAAAAAAAAAAAAAAAAAAAAAAAAAAAAAAAAAAAAAAAAAAAAAAAAAAAAAAAAAAAAAAAAAAAAAAAAAAAAAAAAAAAAAAAAAAAAAAAAAAAAAAAAAAAAAAAAAAAAAAAAAAAAAAAAAAAAAAAAAAAAAAAAAAAAAAAAAAAAAAAAAAAAAAAAAAAAAAAAAAAAAAAAAAAAAAAAAAAAAAAAAAAAAAAAAAAAAAAAAAAAAAAAAAAAAAAAAAAAAAAAAAAAAAAAAAAAAAAAAAAAAAAAAAAAAAAAAAAAAAAAAAAAAAAAAAAAAAAAAAAAAAAAAAAAAAAAAAAAAAAAAAAAAAAAAAAAAAAAAAAAAAAAAAAAAAAAAAAAAAAAAAAAAAAAAAAAAAAAAAAAAAAAAAAAAAAAAAAAAAAAAAAAAAAA==",
                    "dtype": "i1"
                  },
                  "xaxis": "x",
                  "yaxis": "y"
                }
              ],
              "layout": {
                "barmode": "relative",
                "height": 400,
                "legend": {
                  "tracegroupgap": 0
                },
                "template": {
                  "data": {
                    "bar": [
                      {
                        "error_x": {
                          "color": "#2a3f5f"
                        },
                        "error_y": {
                          "color": "#2a3f5f"
                        },
                        "marker": {
                          "line": {
                            "color": "#E5ECF6",
                            "width": 0.5
                          },
                          "pattern": {
                            "fillmode": "overlay",
                            "size": 10,
                            "solidity": 0.2
                          }
                        },
                        "type": "bar"
                      }
                    ],
                    "barpolar": [
                      {
                        "marker": {
                          "line": {
                            "color": "#E5ECF6",
                            "width": 0.5
                          },
                          "pattern": {
                            "fillmode": "overlay",
                            "size": 10,
                            "solidity": 0.2
                          }
                        },
                        "type": "barpolar"
                      }
                    ],
                    "carpet": [
                      {
                        "aaxis": {
                          "endlinecolor": "#2a3f5f",
                          "gridcolor": "white",
                          "linecolor": "white",
                          "minorgridcolor": "white",
                          "startlinecolor": "#2a3f5f"
                        },
                        "baxis": {
                          "endlinecolor": "#2a3f5f",
                          "gridcolor": "white",
                          "linecolor": "white",
                          "minorgridcolor": "white",
                          "startlinecolor": "#2a3f5f"
                        },
                        "type": "carpet"
                      }
                    ],
                    "choropleth": [
                      {
                        "colorbar": {
                          "outlinewidth": 0,
                          "ticks": ""
                        },
                        "type": "choropleth"
                      }
                    ],
                    "contour": [
                      {
                        "colorbar": {
                          "outlinewidth": 0,
                          "ticks": ""
                        },
                        "colorscale": [
                          [
                            0,
                            "#0d0887"
                          ],
                          [
                            0.1111111111111111,
                            "#46039f"
                          ],
                          [
                            0.2222222222222222,
                            "#7201a8"
                          ],
                          [
                            0.3333333333333333,
                            "#9c179e"
                          ],
                          [
                            0.4444444444444444,
                            "#bd3786"
                          ],
                          [
                            0.5555555555555556,
                            "#d8576b"
                          ],
                          [
                            0.6666666666666666,
                            "#ed7953"
                          ],
                          [
                            0.7777777777777778,
                            "#fb9f3a"
                          ],
                          [
                            0.8888888888888888,
                            "#fdca26"
                          ],
                          [
                            1,
                            "#f0f921"
                          ]
                        ],
                        "type": "contour"
                      }
                    ],
                    "contourcarpet": [
                      {
                        "colorbar": {
                          "outlinewidth": 0,
                          "ticks": ""
                        },
                        "type": "contourcarpet"
                      }
                    ],
                    "heatmap": [
                      {
                        "colorbar": {
                          "outlinewidth": 0,
                          "ticks": ""
                        },
                        "colorscale": [
                          [
                            0,
                            "#0d0887"
                          ],
                          [
                            0.1111111111111111,
                            "#46039f"
                          ],
                          [
                            0.2222222222222222,
                            "#7201a8"
                          ],
                          [
                            0.3333333333333333,
                            "#9c179e"
                          ],
                          [
                            0.4444444444444444,
                            "#bd3786"
                          ],
                          [
                            0.5555555555555556,
                            "#d8576b"
                          ],
                          [
                            0.6666666666666666,
                            "#ed7953"
                          ],
                          [
                            0.7777777777777778,
                            "#fb9f3a"
                          ],
                          [
                            0.8888888888888888,
                            "#fdca26"
                          ],
                          [
                            1,
                            "#f0f921"
                          ]
                        ],
                        "type": "heatmap"
                      }
                    ],
                    "histogram": [
                      {
                        "marker": {
                          "pattern": {
                            "fillmode": "overlay",
                            "size": 10,
                            "solidity": 0.2
                          }
                        },
                        "type": "histogram"
                      }
                    ],
                    "histogram2d": [
                      {
                        "colorbar": {
                          "outlinewidth": 0,
                          "ticks": ""
                        },
                        "colorscale": [
                          [
                            0,
                            "#0d0887"
                          ],
                          [
                            0.1111111111111111,
                            "#46039f"
                          ],
                          [
                            0.2222222222222222,
                            "#7201a8"
                          ],
                          [
                            0.3333333333333333,
                            "#9c179e"
                          ],
                          [
                            0.4444444444444444,
                            "#bd3786"
                          ],
                          [
                            0.5555555555555556,
                            "#d8576b"
                          ],
                          [
                            0.6666666666666666,
                            "#ed7953"
                          ],
                          [
                            0.7777777777777778,
                            "#fb9f3a"
                          ],
                          [
                            0.8888888888888888,
                            "#fdca26"
                          ],
                          [
                            1,
                            "#f0f921"
                          ]
                        ],
                        "type": "histogram2d"
                      }
                    ],
                    "histogram2dcontour": [
                      {
                        "colorbar": {
                          "outlinewidth": 0,
                          "ticks": ""
                        },
                        "colorscale": [
                          [
                            0,
                            "#0d0887"
                          ],
                          [
                            0.1111111111111111,
                            "#46039f"
                          ],
                          [
                            0.2222222222222222,
                            "#7201a8"
                          ],
                          [
                            0.3333333333333333,
                            "#9c179e"
                          ],
                          [
                            0.4444444444444444,
                            "#bd3786"
                          ],
                          [
                            0.5555555555555556,
                            "#d8576b"
                          ],
                          [
                            0.6666666666666666,
                            "#ed7953"
                          ],
                          [
                            0.7777777777777778,
                            "#fb9f3a"
                          ],
                          [
                            0.8888888888888888,
                            "#fdca26"
                          ],
                          [
                            1,
                            "#f0f921"
                          ]
                        ],
                        "type": "histogram2dcontour"
                      }
                    ],
                    "mesh3d": [
                      {
                        "colorbar": {
                          "outlinewidth": 0,
                          "ticks": ""
                        },
                        "type": "mesh3d"
                      }
                    ],
                    "parcoords": [
                      {
                        "line": {
                          "colorbar": {
                            "outlinewidth": 0,
                            "ticks": ""
                          }
                        },
                        "type": "parcoords"
                      }
                    ],
                    "pie": [
                      {
                        "automargin": true,
                        "type": "pie"
                      }
                    ],
                    "scatter": [
                      {
                        "fillpattern": {
                          "fillmode": "overlay",
                          "size": 10,
                          "solidity": 0.2
                        },
                        "type": "scatter"
                      }
                    ],
                    "scatter3d": [
                      {
                        "line": {
                          "colorbar": {
                            "outlinewidth": 0,
                            "ticks": ""
                          }
                        },
                        "marker": {
                          "colorbar": {
                            "outlinewidth": 0,
                            "ticks": ""
                          }
                        },
                        "type": "scatter3d"
                      }
                    ],
                    "scattercarpet": [
                      {
                        "marker": {
                          "colorbar": {
                            "outlinewidth": 0,
                            "ticks": ""
                          }
                        },
                        "type": "scattercarpet"
                      }
                    ],
                    "scattergeo": [
                      {
                        "marker": {
                          "colorbar": {
                            "outlinewidth": 0,
                            "ticks": ""
                          }
                        },
                        "type": "scattergeo"
                      }
                    ],
                    "scattergl": [
                      {
                        "marker": {
                          "colorbar": {
                            "outlinewidth": 0,
                            "ticks": ""
                          }
                        },
                        "type": "scattergl"
                      }
                    ],
                    "scattermap": [
                      {
                        "marker": {
                          "colorbar": {
                            "outlinewidth": 0,
                            "ticks": ""
                          }
                        },
                        "type": "scattermap"
                      }
                    ],
                    "scattermapbox": [
                      {
                        "marker": {
                          "colorbar": {
                            "outlinewidth": 0,
                            "ticks": ""
                          }
                        },
                        "type": "scattermapbox"
                      }
                    ],
                    "scatterpolar": [
                      {
                        "marker": {
                          "colorbar": {
                            "outlinewidth": 0,
                            "ticks": ""
                          }
                        },
                        "type": "scatterpolar"
                      }
                    ],
                    "scatterpolargl": [
                      {
                        "marker": {
                          "colorbar": {
                            "outlinewidth": 0,
                            "ticks": ""
                          }
                        },
                        "type": "scatterpolargl"
                      }
                    ],
                    "scatterternary": [
                      {
                        "marker": {
                          "colorbar": {
                            "outlinewidth": 0,
                            "ticks": ""
                          }
                        },
                        "type": "scatterternary"
                      }
                    ],
                    "surface": [
                      {
                        "colorbar": {
                          "outlinewidth": 0,
                          "ticks": ""
                        },
                        "colorscale": [
                          [
                            0,
                            "#0d0887"
                          ],
                          [
                            0.1111111111111111,
                            "#46039f"
                          ],
                          [
                            0.2222222222222222,
                            "#7201a8"
                          ],
                          [
                            0.3333333333333333,
                            "#9c179e"
                          ],
                          [
                            0.4444444444444444,
                            "#bd3786"
                          ],
                          [
                            0.5555555555555556,
                            "#d8576b"
                          ],
                          [
                            0.6666666666666666,
                            "#ed7953"
                          ],
                          [
                            0.7777777777777778,
                            "#fb9f3a"
                          ],
                          [
                            0.8888888888888888,
                            "#fdca26"
                          ],
                          [
                            1,
                            "#f0f921"
                          ]
                        ],
                        "type": "surface"
                      }
                    ],
                    "table": [
                      {
                        "cells": {
                          "fill": {
                            "color": "#EBF0F8"
                          },
                          "line": {
                            "color": "white"
                          }
                        },
                        "header": {
                          "fill": {
                            "color": "#C8D4E3"
                          },
                          "line": {
                            "color": "white"
                          }
                        },
                        "type": "table"
                      }
                    ]
                  },
                  "layout": {
                    "annotationdefaults": {
                      "arrowcolor": "#2a3f5f",
                      "arrowhead": 0,
                      "arrowwidth": 1
                    },
                    "autotypenumbers": "strict",
                    "coloraxis": {
                      "colorbar": {
                        "outlinewidth": 0,
                        "ticks": ""
                      }
                    },
                    "colorscale": {
                      "diverging": [
                        [
                          0,
                          "#8e0152"
                        ],
                        [
                          0.1,
                          "#c51b7d"
                        ],
                        [
                          0.2,
                          "#de77ae"
                        ],
                        [
                          0.3,
                          "#f1b6da"
                        ],
                        [
                          0.4,
                          "#fde0ef"
                        ],
                        [
                          0.5,
                          "#f7f7f7"
                        ],
                        [
                          0.6,
                          "#e6f5d0"
                        ],
                        [
                          0.7,
                          "#b8e186"
                        ],
                        [
                          0.8,
                          "#7fbc41"
                        ],
                        [
                          0.9,
                          "#4d9221"
                        ],
                        [
                          1,
                          "#276419"
                        ]
                      ],
                      "sequential": [
                        [
                          0,
                          "#0d0887"
                        ],
                        [
                          0.1111111111111111,
                          "#46039f"
                        ],
                        [
                          0.2222222222222222,
                          "#7201a8"
                        ],
                        [
                          0.3333333333333333,
                          "#9c179e"
                        ],
                        [
                          0.4444444444444444,
                          "#bd3786"
                        ],
                        [
                          0.5555555555555556,
                          "#d8576b"
                        ],
                        [
                          0.6666666666666666,
                          "#ed7953"
                        ],
                        [
                          0.7777777777777778,
                          "#fb9f3a"
                        ],
                        [
                          0.8888888888888888,
                          "#fdca26"
                        ],
                        [
                          1,
                          "#f0f921"
                        ]
                      ],
                      "sequentialminus": [
                        [
                          0,
                          "#0d0887"
                        ],
                        [
                          0.1111111111111111,
                          "#46039f"
                        ],
                        [
                          0.2222222222222222,
                          "#7201a8"
                        ],
                        [
                          0.3333333333333333,
                          "#9c179e"
                        ],
                        [
                          0.4444444444444444,
                          "#bd3786"
                        ],
                        [
                          0.5555555555555556,
                          "#d8576b"
                        ],
                        [
                          0.6666666666666666,
                          "#ed7953"
                        ],
                        [
                          0.7777777777777778,
                          "#fb9f3a"
                        ],
                        [
                          0.8888888888888888,
                          "#fdca26"
                        ],
                        [
                          1,
                          "#f0f921"
                        ]
                      ]
                    },
                    "colorway": [
                      "#636efa",
                      "#EF553B",
                      "#00cc96",
                      "#ab63fa",
                      "#FFA15A",
                      "#19d3f3",
                      "#FF6692",
                      "#B6E880",
                      "#FF97FF",
                      "#FECB52"
                    ],
                    "font": {
                      "color": "#2a3f5f"
                    },
                    "geo": {
                      "bgcolor": "white",
                      "lakecolor": "white",
                      "landcolor": "#E5ECF6",
                      "showlakes": true,
                      "showland": true,
                      "subunitcolor": "white"
                    },
                    "hoverlabel": {
                      "align": "left"
                    },
                    "hovermode": "closest",
                    "mapbox": {
                      "style": "light"
                    },
                    "paper_bgcolor": "white",
                    "plot_bgcolor": "#E5ECF6",
                    "polar": {
                      "angularaxis": {
                        "gridcolor": "white",
                        "linecolor": "white",
                        "ticks": ""
                      },
                      "bgcolor": "#E5ECF6",
                      "radialaxis": {
                        "gridcolor": "white",
                        "linecolor": "white",
                        "ticks": ""
                      }
                    },
                    "scene": {
                      "xaxis": {
                        "backgroundcolor": "#E5ECF6",
                        "gridcolor": "white",
                        "gridwidth": 2,
                        "linecolor": "white",
                        "showbackground": true,
                        "ticks": "",
                        "zerolinecolor": "white"
                      },
                      "yaxis": {
                        "backgroundcolor": "#E5ECF6",
                        "gridcolor": "white",
                        "gridwidth": 2,
                        "linecolor": "white",
                        "showbackground": true,
                        "ticks": "",
                        "zerolinecolor": "white"
                      },
                      "zaxis": {
                        "backgroundcolor": "#E5ECF6",
                        "gridcolor": "white",
                        "gridwidth": 2,
                        "linecolor": "white",
                        "showbackground": true,
                        "ticks": "",
                        "zerolinecolor": "white"
                      }
                    },
                    "shapedefaults": {
                      "line": {
                        "color": "#2a3f5f"
                      }
                    },
                    "ternary": {
                      "aaxis": {
                        "gridcolor": "white",
                        "linecolor": "white",
                        "ticks": ""
                      },
                      "baxis": {
                        "gridcolor": "white",
                        "linecolor": "white",
                        "ticks": ""
                      },
                      "bgcolor": "#E5ECF6",
                      "caxis": {
                        "gridcolor": "white",
                        "linecolor": "white",
                        "ticks": ""
                      }
                    },
                    "title": {
                      "x": 0.05
                    },
                    "xaxis": {
                      "automargin": true,
                      "gridcolor": "white",
                      "linecolor": "white",
                      "ticks": "",
                      "title": {
                        "standoff": 15
                      },
                      "zerolinecolor": "white",
                      "zerolinewidth": 2
                    },
                    "yaxis": {
                      "automargin": true,
                      "gridcolor": "white",
                      "linecolor": "white",
                      "ticks": "",
                      "title": {
                        "standoff": 15
                      },
                      "zerolinecolor": "white",
                      "zerolinewidth": 2
                    }
                  }
                },
                "title": {
                  "text": "Stroke"
                },
                "width": 400,
                "xaxis": {
                  "anchor": "y",
                  "domain": [
                    0,
                    1
                  ],
                  "title": {
                    "text": "stroke"
                  }
                },
                "yaxis": {
                  "anchor": "x",
                  "domain": [
                    0,
                    1
                  ],
                  "title": {
                    "text": "count"
                  }
                }
              }
            }
          },
          "metadata": {},
          "output_type": "display_data"
        }
      ],
      "source": [
        "fig = px.histogram(df, x=\"stroke\", title='Stroke', width=400, height=400)\n",
        "fig.show()"
      ]
    },
    {
      "cell_type": "markdown",
      "metadata": {},
      "source": [
        "- Our  stroke dataset is an example of a so-called imbalanced dataset.\n",
        "- There are 19 times more people who didn’t have stroke in our data than who had, and we say that the non-stroke class dominates the stroke class.\n",
        "- We can clearly see that: the stroke rate in our data is 0.048\n",
        "- Which is a strong indicator of class imbalance"
      ]
    },
    {
      "cell_type": "markdown",
      "metadata": {},
      "source": [
        "<a id=\"5\"></a>\n",
        "<font color=\"lightseagreen\" size=+1.5><b>Imbalance Data</b></font>\n",
        "\n",
        "- Instances across classes are imbalanced, like in our dataset, we have imbalance data.\n",
        "\n",
        "- The problem is, most of the machine learning algorithm do not work well with the imbalanced data.\n",
        "\n",
        "- Some of the metrics (like accuracy) give us misleading results.\n",
        "\n",
        "- Most of the time in classification problems our interest is to get better predict on the minority class.\n",
        "\n",
        "- In our example: People had a stroke is minority class.\n",
        "\n",
        "- Otherwise our machine learning algorithm falsely predicts majority class.\n",
        "\n",
        "- In our example: No stroke is majority class."
      ]
    },
    {
      "cell_type": "markdown",
      "metadata": {},
      "source": [
        "<a id=\"6\"></a>\n",
        "<font color=\"lightseagreen\" size=+1.5><b>Decide the Metric</b></font>\n",
        "\n",
        "- This is the first step when approaching a machine learning problem: decide the metric!\n",
        "\n",
        "- The choice of the wrong metric can mean choosing the wrong algorithm.\n",
        "\n",
        "- We see that the target is skewed and thus the best metric for this binary classification problem would be Area Under the ROC Curve (AUC). \n",
        "- We can use precision and recall too, but AUC combines these two metrics.\n",
        "\n",
        "- We have already seen the label/target distribution, and we know that it is a binary classification problem with skewed targets. Thus, we will be using StratifiedKFold to split the data\n",
        "\n",
        "- Just for further info, it is not advisable to use accuracy as an evaluation metric, when dealing with higly imbalanced data. "
      ]
    },
    {
      "cell_type": "code",
      "execution_count": 662,
      "metadata": {},
      "outputs": [
        {
          "data": {
            "text/html": [
              "<div>\n",
              "<style scoped>\n",
              "    .dataframe tbody tr th:only-of-type {\n",
              "        vertical-align: middle;\n",
              "    }\n",
              "\n",
              "    .dataframe tbody tr th {\n",
              "        vertical-align: top;\n",
              "    }\n",
              "\n",
              "    .dataframe thead th {\n",
              "        text-align: right;\n",
              "    }\n",
              "</style>\n",
              "<table border=\"1\" class=\"dataframe\">\n",
              "  <thead>\n",
              "    <tr style=\"text-align: right;\">\n",
              "      <th></th>\n",
              "      <th>id</th>\n",
              "      <th>age</th>\n",
              "      <th>hypertension</th>\n",
              "      <th>heart_disease</th>\n",
              "      <th>avg_glucose_level</th>\n",
              "      <th>bmi</th>\n",
              "      <th>stroke</th>\n",
              "    </tr>\n",
              "  </thead>\n",
              "  <tbody>\n",
              "    <tr>\n",
              "      <th>count</th>\n",
              "      <td>5110.000000</td>\n",
              "      <td>5110.000000</td>\n",
              "      <td>5110.000000</td>\n",
              "      <td>5110.000000</td>\n",
              "      <td>5110.000000</td>\n",
              "      <td>4909.000000</td>\n",
              "      <td>5110.000000</td>\n",
              "    </tr>\n",
              "    <tr>\n",
              "      <th>mean</th>\n",
              "      <td>36517.829354</td>\n",
              "      <td>43.226614</td>\n",
              "      <td>0.097456</td>\n",
              "      <td>0.054012</td>\n",
              "      <td>106.147677</td>\n",
              "      <td>28.893237</td>\n",
              "      <td>0.048728</td>\n",
              "    </tr>\n",
              "    <tr>\n",
              "      <th>std</th>\n",
              "      <td>21161.721625</td>\n",
              "      <td>22.612647</td>\n",
              "      <td>0.296607</td>\n",
              "      <td>0.226063</td>\n",
              "      <td>45.283560</td>\n",
              "      <td>7.854067</td>\n",
              "      <td>0.215320</td>\n",
              "    </tr>\n",
              "    <tr>\n",
              "      <th>min</th>\n",
              "      <td>67.000000</td>\n",
              "      <td>0.080000</td>\n",
              "      <td>0.000000</td>\n",
              "      <td>0.000000</td>\n",
              "      <td>55.120000</td>\n",
              "      <td>10.300000</td>\n",
              "      <td>0.000000</td>\n",
              "    </tr>\n",
              "    <tr>\n",
              "      <th>25%</th>\n",
              "      <td>17741.250000</td>\n",
              "      <td>25.000000</td>\n",
              "      <td>0.000000</td>\n",
              "      <td>0.000000</td>\n",
              "      <td>77.245000</td>\n",
              "      <td>23.500000</td>\n",
              "      <td>0.000000</td>\n",
              "    </tr>\n",
              "    <tr>\n",
              "      <th>50%</th>\n",
              "      <td>36932.000000</td>\n",
              "      <td>45.000000</td>\n",
              "      <td>0.000000</td>\n",
              "      <td>0.000000</td>\n",
              "      <td>91.885000</td>\n",
              "      <td>28.100000</td>\n",
              "      <td>0.000000</td>\n",
              "    </tr>\n",
              "    <tr>\n",
              "      <th>75%</th>\n",
              "      <td>54682.000000</td>\n",
              "      <td>61.000000</td>\n",
              "      <td>0.000000</td>\n",
              "      <td>0.000000</td>\n",
              "      <td>114.090000</td>\n",
              "      <td>33.100000</td>\n",
              "      <td>0.000000</td>\n",
              "    </tr>\n",
              "    <tr>\n",
              "      <th>max</th>\n",
              "      <td>72940.000000</td>\n",
              "      <td>82.000000</td>\n",
              "      <td>1.000000</td>\n",
              "      <td>1.000000</td>\n",
              "      <td>271.740000</td>\n",
              "      <td>97.600000</td>\n",
              "      <td>1.000000</td>\n",
              "    </tr>\n",
              "  </tbody>\n",
              "</table>\n",
              "</div>"
            ],
            "text/plain": [
              "                 id          age  hypertension  heart_disease  \\\n",
              "count   5110.000000  5110.000000   5110.000000    5110.000000   \n",
              "mean   36517.829354    43.226614      0.097456       0.054012   \n",
              "std    21161.721625    22.612647      0.296607       0.226063   \n",
              "min       67.000000     0.080000      0.000000       0.000000   \n",
              "25%    17741.250000    25.000000      0.000000       0.000000   \n",
              "50%    36932.000000    45.000000      0.000000       0.000000   \n",
              "75%    54682.000000    61.000000      0.000000       0.000000   \n",
              "max    72940.000000    82.000000      1.000000       1.000000   \n",
              "\n",
              "       avg_glucose_level          bmi       stroke  \n",
              "count        5110.000000  4909.000000  5110.000000  \n",
              "mean          106.147677    28.893237     0.048728  \n",
              "std            45.283560     7.854067     0.215320  \n",
              "min            55.120000    10.300000     0.000000  \n",
              "25%            77.245000    23.500000     0.000000  \n",
              "50%            91.885000    28.100000     0.000000  \n",
              "75%           114.090000    33.100000     0.000000  \n",
              "max           271.740000    97.600000     1.000000  "
            ]
          },
          "execution_count": 662,
          "metadata": {},
          "output_type": "execute_result"
        }
      ],
      "source": [
        "# Get descriptive statistics for numerical columns\n",
        "df.describe()"
      ]
    },
    {
      "cell_type": "code",
      "execution_count": 663,
      "metadata": {},
      "outputs": [
        {
          "name": "stdout",
          "output_type": "stream",
          "text": [
            "Value counts for column: gender\n",
            "gender\n",
            "Female    2994\n",
            "Male      2115\n",
            "Other        1\n",
            "Name: count, dtype: int64\n",
            "------------------------------\n",
            "Value counts for column: ever_married\n",
            "ever_married\n",
            "Yes    3353\n",
            "No     1757\n",
            "Name: count, dtype: int64\n",
            "------------------------------\n",
            "Value counts for column: work_type\n",
            "work_type\n",
            "Private          2925\n",
            "Self-employed     819\n",
            "children          687\n",
            "Govt_job          657\n",
            "Never_worked       22\n",
            "Name: count, dtype: int64\n",
            "------------------------------\n",
            "Value counts for column: Residence_type\n",
            "Residence_type\n",
            "Urban    2596\n",
            "Rural    2514\n",
            "Name: count, dtype: int64\n",
            "------------------------------\n",
            "Value counts for column: smoking_status\n",
            "smoking_status\n",
            "never smoked       1892\n",
            "Unknown            1544\n",
            "formerly smoked     885\n",
            "smokes              789\n",
            "Name: count, dtype: int64\n",
            "------------------------------\n"
          ]
        }
      ],
      "source": [
        "# This helps check for any rare categories.\n",
        "\n",
        "categorical_cols = df.select_dtypes(include=['object']).columns\n",
        "\n",
        "for col in categorical_cols:\n",
        "    print(f\"Value counts for column: {col}\")\n",
        "    print(df[col].value_counts())\n",
        "    print(\"-\" * 30)"
      ]
    },
    {
      "cell_type": "markdown",
      "metadata": {},
      "source": [
        "### 4.2. Handling Missing Values"
      ]
    },
    {
      "cell_type": "markdown",
      "metadata": {},
      "source": [
        "-In our initial data inspection with **.info()**, we identified that the bmi column is the only one with missing values. Before we can train our models, we must address these missing entries through imputation, which means filling in the blanks with a substituted value."
      ]
    },
    {
      "cell_type": "code",
      "execution_count": 664,
      "metadata": {},
      "outputs": [
        {
          "data": {
            "text/plain": [
              "id                     0\n",
              "gender                 0\n",
              "age                    0\n",
              "hypertension           0\n",
              "heart_disease          0\n",
              "ever_married           0\n",
              "work_type              0\n",
              "Residence_type         0\n",
              "avg_glucose_level      0\n",
              "bmi                  201\n",
              "smoking_status         0\n",
              "stroke                 0\n",
              "dtype: int64"
            ]
          },
          "execution_count": 664,
          "metadata": {},
          "output_type": "execute_result"
        }
      ],
      "source": [
        "df.isnull().sum()\n"
      ]
    },
    {
      "cell_type": "code",
      "execution_count": 665,
      "metadata": {},
      "outputs": [
        {
          "name": "stdout",
          "output_type": "stream",
          "text": [
            "Number of missing BMI values: 201\n",
            "Percentage of missing BMI values: 3.93%\n"
          ]
        }
      ],
      "source": [
        "missing_bmi_count = df['bmi'].isnull().sum()\n",
        "total_rows = len(df)\n",
        "missing_percentage = (missing_bmi_count / total_rows) * 100\n",
        "\n",
        "print(f\"Number of missing BMI values: {missing_bmi_count}\")\n",
        "print(f\"Percentage of missing BMI values: {missing_percentage:.2f}%\")"
      ]
    },
    {
      "cell_type": "code",
      "execution_count": 666,
      "metadata": {},
      "outputs": [
        {
          "data": {
            "image/png": "[encoded data removed]",
            "text/plain": [
              "<Figure size 700x500 with 2 Axes>"
            ]
          },
          "metadata": {},
          "output_type": "display_data"
        },
        {
          "name": "stdout",
          "output_type": "stream",
          "text": [
            "Detailed Summary:\n",
            "Total records: 5110\n",
            "Missing BMI: 201 (3.9%)\n",
            "Available BMI: 4909 (96.1%)\n"
          ]
        }
      ],
      "source": [
        "# Visualize missing values in the dataset\n",
        "# Calculate missing values\n",
        "total = len(df)\n",
        "missing = df['bmi'].isna().sum()\n",
        "present = total - missing\n",
        "missing_pct = round(missing/total * 100, 1)\n",
        "\n",
        "# Create visualization\n",
        "plt.figure(figsize=(7, 5))\n",
        "\n",
        "# Bar plot\n",
        "plt.subplot(121)\n",
        "ax = sns.barplot(x=['Missing', 'Present'], \n",
        "                 y=[missing, present], \n",
        "                 palette=[\"#EE6060\", \"#4c9ae9\"])\n",
        "plt.title('BMI Data Completion Status\\n(Bar Chart)', fontsize=14)\n",
        "plt.ylabel('Number of Cases')\n",
        "\n",
        "# Add annotations\n",
        "for i, v in enumerate([missing, present]):\n",
        "    pct = f'{missing_pct}%' if i == 0 else f'{100-missing_pct}%'\n",
        "    ax.text(i, v + 50, f'{v}\\n({pct})', \n",
        "            ha='center', \n",
        "            va='center',\n",
        "            fontsize=11)\n",
        "\n",
        "# Text-based visualization\n",
        "plt.subplot(122)\n",
        "plt.text(0.5, 0.7, \n",
        "         f\"Total Records: {total}\\n\\nBMI Missing: {missing} ({missing_pct}%)\\nBMI Present: {present} ({100-missing_pct}%)\",\n",
        "         fontsize=14,\n",
        "         ha='center',\n",
        "         va='center')\n",
        "plt.axis('off')\n",
        "plt.title('Data Completeness Summary', fontsize=14)\n",
        "\n",
        "plt.tight_layout()\n",
        "plt.show()\n",
        "\n",
        "# Print detailed summary\n",
        "print(f\"Detailed Summary:\")\n",
        "print(f\"Total records: {total}\")\n",
        "print(f\"Missing BMI: {missing} ({missing_pct}%)\")\n",
        "print(f\"Available BMI: {present} ({100-missing_pct}%)\")"
      ]
    },
    {
      "cell_type": "code",
      "execution_count": null,
      "metadata": {},
      "outputs": [
        {
          "ename": "AttributeError",
          "evalue": "'Text' object has no property 'Size'",
          "output_type": "error",
          "traceback": [
            "\u001b[1;31m---------------------------------------------------------------------------\u001b[0m",
            "\u001b[1;31mAttributeError\u001b[0m                            Traceback (most recent call last)",
            "Cell \u001b[1;32mIn[683], line 6\u001b[0m\n\u001b[0;32m      4\u001b[0m fig, ax \u001b[38;5;241m=\u001b[39m plt\u001b[38;5;241m.\u001b[39msubplots(figsize \u001b[38;5;241m=\u001b[39m (\u001b[38;5;241m6\u001b[39m,\u001b[38;5;241m6\u001b[39m), dpi \u001b[38;5;241m=\u001b[39m \u001b[38;5;241m70\u001b[39m)\n\u001b[0;32m      5\u001b[0m ax\u001b[38;5;241m.\u001b[39mbarh([\u001b[38;5;241m1\u001b[39m], x\u001b[38;5;241m.\u001b[39mstroke[\u001b[38;5;241m1\u001b[39m], height \u001b[38;5;241m=\u001b[39m \u001b[38;5;241m0.7\u001b[39m, color \u001b[38;5;241m=\u001b[39m \u001b[38;5;124m'\u001b[39m\u001b[38;5;124m#fe346e\u001b[39m\u001b[38;5;124m'\u001b[39m)\n\u001b[1;32m----> 6\u001b[0m \u001b[43mplt\u001b[49m\u001b[38;5;241;43m.\u001b[39;49m\u001b[43mtext\u001b[49m\u001b[43m(\u001b[49m\u001b[38;5;241;43m-\u001b[39;49m\u001b[38;5;241;43m1150\u001b[39;49m\u001b[43m,\u001b[49m\u001b[38;5;241;43m-\u001b[39;49m\u001b[38;5;241;43m0.08\u001b[39;49m\u001b[43m,\u001b[49m\u001b[43m \u001b[49m\u001b[38;5;124;43m'\u001b[39;49m\u001b[38;5;124;43mHealthy\u001b[39;49m\u001b[38;5;124;43m'\u001b[39;49m\u001b[43m,\u001b[49m\u001b[43m{\u001b[49m\u001b[38;5;124;43m'\u001b[39;49m\u001b[38;5;124;43mfont\u001b[39;49m\u001b[38;5;124;43m'\u001b[39;49m\u001b[43m:\u001b[49m\u001b[43m \u001b[49m\u001b[38;5;124;43m'\u001b[39;49m\u001b[38;5;124;43mSerif\u001b[39;49m\u001b[38;5;124;43m'\u001b[39;49m\u001b[43m,\u001b[49m\u001b[38;5;124;43m'\u001b[39;49m\u001b[38;5;124;43mweight\u001b[39;49m\u001b[38;5;124;43m'\u001b[39;49m\u001b[43m:\u001b[49m\u001b[38;5;124;43m'\u001b[39;49m\u001b[38;5;124;43mbold\u001b[39;49m\u001b[38;5;124;43m'\u001b[39;49m\u001b[43m,\u001b[49m\u001b[38;5;124;43m'\u001b[39;49m\u001b[38;5;124;43mSize\u001b[39;49m\u001b[38;5;124;43m'\u001b[39;49m\u001b[43m:\u001b[49m\u001b[43m \u001b[49m\u001b[38;5;124;43m'\u001b[39;49m\u001b[38;5;124;43m16\u001b[39;49m\u001b[38;5;124;43m'\u001b[39;49m\u001b[43m,\u001b[49m\u001b[38;5;124;43m'\u001b[39;49m\u001b[38;5;124;43mstyle\u001b[39;49m\u001b[38;5;124;43m'\u001b[39;49m\u001b[43m:\u001b[49m\u001b[38;5;124;43m'\u001b[39;49m\u001b[38;5;124;43mnormal\u001b[39;49m\u001b[38;5;124;43m'\u001b[39;49m\u001b[43m,\u001b[49m\u001b[43m \u001b[49m\u001b[38;5;124;43m'\u001b[39;49m\u001b[38;5;124;43mcolor\u001b[39;49m\u001b[38;5;124;43m'\u001b[39;49m\u001b[43m:\u001b[49m\u001b[38;5;124;43m'\u001b[39;49m\u001b[38;5;124;43m#512b58\u001b[39;49m\u001b[38;5;124;43m'\u001b[39;49m\u001b[43m}\u001b[49m\u001b[43m)\u001b[49m\n\u001b[0;32m      7\u001b[0m plt\u001b[38;5;241m.\u001b[39mtext(\u001b[38;5;241m5000\u001b[39m,\u001b[38;5;241m-\u001b[39m\u001b[38;5;241m0.08\u001b[39m, \u001b[38;5;124m'\u001b[39m\u001b[38;5;124m95\u001b[39m\u001b[38;5;124m%\u001b[39m\u001b[38;5;124m'\u001b[39m,{\u001b[38;5;124m'\u001b[39m\u001b[38;5;124mfont\u001b[39m\u001b[38;5;124m'\u001b[39m:\u001b[38;5;124m'\u001b[39m\u001b[38;5;124mSerif\u001b[39m\u001b[38;5;124m'\u001b[39m,\u001b[38;5;124m'\u001b[39m\u001b[38;5;124mweight\u001b[39m\u001b[38;5;124m'\u001b[39m:\u001b[38;5;124m'\u001b[39m\u001b[38;5;124mbold\u001b[39m\u001b[38;5;124m'\u001b[39m ,\u001b[38;5;124m'\u001b[39m\u001b[38;5;124msize\u001b[39m\u001b[38;5;124m'\u001b[39m:\u001b[38;5;124m'\u001b[39m\u001b[38;5;124m16\u001b[39m\u001b[38;5;124m'\u001b[39m,\u001b[38;5;124m'\u001b[39m\u001b[38;5;124mcolor\u001b[39m\u001b[38;5;124m'\u001b[39m:\u001b[38;5;124m'\u001b[39m\u001b[38;5;124m#512b58\u001b[39m\u001b[38;5;124m'\u001b[39m})\n\u001b[0;32m      8\u001b[0m ax\u001b[38;5;241m.\u001b[39mbarh([\u001b[38;5;241m0\u001b[39m], x\u001b[38;5;241m.\u001b[39mstroke[\u001b[38;5;241m0\u001b[39m], height \u001b[38;5;241m=\u001b[39m \u001b[38;5;241m0.7\u001b[39m, color \u001b[38;5;241m=\u001b[39m \u001b[38;5;124m'\u001b[39m\u001b[38;5;124m#512b58\u001b[39m\u001b[38;5;124m'\u001b[39m)\n",
            "File \u001b[1;32mc:\\Users\\okharef\\AppData\\Local\\anaconda3\\envs\\stroke-project\\lib\\site-packages\\matplotlib\\pyplot.py:4161\u001b[0m, in \u001b[0;36mtext\u001b[1;34m(x, y, s, fontdict, **kwargs)\u001b[0m\n\u001b[0;32m   4157\u001b[0m \u001b[38;5;129m@_copy_docstring_and_deprecators\u001b[39m(Axes\u001b[38;5;241m.\u001b[39mtext)\n\u001b[0;32m   4158\u001b[0m \u001b[38;5;28;01mdef\u001b[39;00m\u001b[38;5;250m \u001b[39m\u001b[38;5;21mtext\u001b[39m(\n\u001b[0;32m   4159\u001b[0m     x: \u001b[38;5;28mfloat\u001b[39m, y: \u001b[38;5;28mfloat\u001b[39m, s: \u001b[38;5;28mstr\u001b[39m, fontdict: \u001b[38;5;28mdict\u001b[39m[\u001b[38;5;28mstr\u001b[39m, Any] \u001b[38;5;241m|\u001b[39m \u001b[38;5;28;01mNone\u001b[39;00m \u001b[38;5;241m=\u001b[39m \u001b[38;5;28;01mNone\u001b[39;00m, \u001b[38;5;241m*\u001b[39m\u001b[38;5;241m*\u001b[39mkwargs\n\u001b[0;32m   4160\u001b[0m ) \u001b[38;5;241m-\u001b[39m\u001b[38;5;241m>\u001b[39m Text:\n\u001b[1;32m-> 4161\u001b[0m     \u001b[38;5;28;01mreturn\u001b[39;00m gca()\u001b[38;5;241m.\u001b[39mtext(x, y, s, fontdict\u001b[38;5;241m=\u001b[39mfontdict, \u001b[38;5;241m*\u001b[39m\u001b[38;5;241m*\u001b[39mkwargs)\n",
            "File \u001b[1;32mc:\\Users\\okharef\\AppData\\Local\\anaconda3\\envs\\stroke-project\\lib\\site-packages\\matplotlib\\axes\\_axes.py:743\u001b[0m, in \u001b[0;36mAxes.text\u001b[1;34m(self, x, y, s, fontdict, **kwargs)\u001b[0m\n\u001b[0;32m    672\u001b[0m \u001b[38;5;250m\u001b[39m\u001b[38;5;124;03m\"\"\"\u001b[39;00m\n\u001b[0;32m    673\u001b[0m \u001b[38;5;124;03mAdd text to the Axes.\u001b[39;00m\n\u001b[0;32m    674\u001b[0m \n\u001b[1;32m   (...)\u001b[0m\n\u001b[0;32m    733\u001b[0m \u001b[38;5;124;03m    >>> text(x, y, s, bbox=dict(facecolor='red', alpha=0.5))\u001b[39;00m\n\u001b[0;32m    734\u001b[0m \u001b[38;5;124;03m\"\"\"\u001b[39;00m\n\u001b[0;32m    735\u001b[0m effective_kwargs \u001b[38;5;241m=\u001b[39m {\n\u001b[0;32m    736\u001b[0m     \u001b[38;5;124m'\u001b[39m\u001b[38;5;124mverticalalignment\u001b[39m\u001b[38;5;124m'\u001b[39m: \u001b[38;5;124m'\u001b[39m\u001b[38;5;124mbaseline\u001b[39m\u001b[38;5;124m'\u001b[39m,\n\u001b[0;32m    737\u001b[0m     \u001b[38;5;124m'\u001b[39m\u001b[38;5;124mhorizontalalignment\u001b[39m\u001b[38;5;124m'\u001b[39m: \u001b[38;5;124m'\u001b[39m\u001b[38;5;124mleft\u001b[39m\u001b[38;5;124m'\u001b[39m,\n\u001b[1;32m   (...)\u001b[0m\n\u001b[0;32m    741\u001b[0m     \u001b[38;5;241m*\u001b[39m\u001b[38;5;241m*\u001b[39mkwargs,\n\u001b[0;32m    742\u001b[0m }\n\u001b[1;32m--> 743\u001b[0m t \u001b[38;5;241m=\u001b[39m mtext\u001b[38;5;241m.\u001b[39mText(x, y, text\u001b[38;5;241m=\u001b[39ms, \u001b[38;5;241m*\u001b[39m\u001b[38;5;241m*\u001b[39meffective_kwargs)\n\u001b[0;32m    744\u001b[0m \u001b[38;5;28;01mif\u001b[39;00m t\u001b[38;5;241m.\u001b[39mget_clip_path() \u001b[38;5;129;01mis\u001b[39;00m \u001b[38;5;28;01mNone\u001b[39;00m:\n\u001b[0;32m    745\u001b[0m     t\u001b[38;5;241m.\u001b[39mset_clip_path(\u001b[38;5;28mself\u001b[39m\u001b[38;5;241m.\u001b[39mpatch)\n",
            "File \u001b[1;32mc:\\Users\\okharef\\AppData\\Local\\anaconda3\\envs\\stroke-project\\lib\\site-packages\\matplotlib\\text.py:155\u001b[0m, in \u001b[0;36mText.__init__\u001b[1;34m(self, x, y, text, color, verticalalignment, horizontalalignment, multialignment, fontproperties, rotation, linespacing, rotation_mode, usetex, wrap, transform_rotates_text, parse_math, antialiased, **kwargs)\u001b[0m\n\u001b[0;32m    138\u001b[0m \u001b[38;5;28mself\u001b[39m\u001b[38;5;241m.\u001b[39m_text \u001b[38;5;241m=\u001b[39m \u001b[38;5;124m'\u001b[39m\u001b[38;5;124m'\u001b[39m\n\u001b[0;32m    139\u001b[0m \u001b[38;5;28mself\u001b[39m\u001b[38;5;241m.\u001b[39m_reset_visual_defaults(\n\u001b[0;32m    140\u001b[0m     text\u001b[38;5;241m=\u001b[39mtext,\n\u001b[0;32m    141\u001b[0m     color\u001b[38;5;241m=\u001b[39mcolor,\n\u001b[1;32m   (...)\u001b[0m\n\u001b[0;32m    153\u001b[0m     antialiased\u001b[38;5;241m=\u001b[39mantialiased\n\u001b[0;32m    154\u001b[0m )\n\u001b[1;32m--> 155\u001b[0m \u001b[38;5;28;43mself\u001b[39;49m\u001b[38;5;241;43m.\u001b[39;49m\u001b[43mupdate\u001b[49m\u001b[43m(\u001b[49m\u001b[43mkwargs\u001b[49m\u001b[43m)\u001b[49m\n",
            "File \u001b[1;32mc:\\Users\\okharef\\AppData\\Local\\anaconda3\\envs\\stroke-project\\lib\\site-packages\\matplotlib\\text.py:205\u001b[0m, in \u001b[0;36mText.update\u001b[1;34m(self, kwargs)\u001b[0m\n\u001b[0;32m    203\u001b[0m \u001b[38;5;66;03m# Update bbox last, as it depends on font properties.\u001b[39;00m\n\u001b[0;32m    204\u001b[0m bbox \u001b[38;5;241m=\u001b[39m kwargs\u001b[38;5;241m.\u001b[39mpop(\u001b[38;5;124m\"\u001b[39m\u001b[38;5;124mbbox\u001b[39m\u001b[38;5;124m\"\u001b[39m, sentinel)\n\u001b[1;32m--> 205\u001b[0m ret\u001b[38;5;241m.\u001b[39mextend(\u001b[38;5;28;43msuper\u001b[39;49m\u001b[43m(\u001b[49m\u001b[43m)\u001b[49m\u001b[38;5;241;43m.\u001b[39;49m\u001b[43mupdate\u001b[49m\u001b[43m(\u001b[49m\u001b[43mkwargs\u001b[49m\u001b[43m)\u001b[49m)\n\u001b[0;32m    206\u001b[0m \u001b[38;5;28;01mif\u001b[39;00m bbox \u001b[38;5;129;01mis\u001b[39;00m \u001b[38;5;129;01mnot\u001b[39;00m sentinel:\n\u001b[0;32m    207\u001b[0m     ret\u001b[38;5;241m.\u001b[39mappend(\u001b[38;5;28mself\u001b[39m\u001b[38;5;241m.\u001b[39mset_bbox(bbox))\n",
            "File \u001b[1;32mc:\\Users\\okharef\\AppData\\Local\\anaconda3\\envs\\stroke-project\\lib\\site-packages\\matplotlib\\artist.py:1206\u001b[0m, in \u001b[0;36mArtist.update\u001b[1;34m(self, props)\u001b[0m\n\u001b[0;32m   1198\u001b[0m \u001b[38;5;28;01mdef\u001b[39;00m\u001b[38;5;250m \u001b[39m\u001b[38;5;21mupdate\u001b[39m(\u001b[38;5;28mself\u001b[39m, props):\n\u001b[0;32m   1199\u001b[0m \u001b[38;5;250m    \u001b[39m\u001b[38;5;124;03m\"\"\"\u001b[39;00m\n\u001b[0;32m   1200\u001b[0m \u001b[38;5;124;03m    Update this artist's properties from the dict *props*.\u001b[39;00m\n\u001b[0;32m   1201\u001b[0m \n\u001b[1;32m   (...)\u001b[0m\n\u001b[0;32m   1204\u001b[0m \u001b[38;5;124;03m    props : dict\u001b[39;00m\n\u001b[0;32m   1205\u001b[0m \u001b[38;5;124;03m    \"\"\"\u001b[39;00m\n\u001b[1;32m-> 1206\u001b[0m     \u001b[38;5;28;01mreturn\u001b[39;00m \u001b[38;5;28;43mself\u001b[39;49m\u001b[38;5;241;43m.\u001b[39;49m\u001b[43m_update_props\u001b[49m\u001b[43m(\u001b[49m\n\u001b[0;32m   1207\u001b[0m \u001b[43m        \u001b[49m\u001b[43mprops\u001b[49m\u001b[43m,\u001b[49m\u001b[43m \u001b[49m\u001b[38;5;124;43m\"\u001b[39;49m\u001b[38;5;132;43;01m{cls.__name__!r}\u001b[39;49;00m\u001b[38;5;124;43m object has no property \u001b[39;49m\u001b[38;5;132;43;01m{prop_name!r}\u001b[39;49;00m\u001b[38;5;124;43m\"\u001b[39;49m\u001b[43m)\u001b[49m\n",
            "File \u001b[1;32mc:\\Users\\okharef\\AppData\\Local\\anaconda3\\envs\\stroke-project\\lib\\site-packages\\matplotlib\\artist.py:1190\u001b[0m, in \u001b[0;36mArtist._update_props\u001b[1;34m(self, props, errfmt)\u001b[0m\n\u001b[0;32m   1188\u001b[0m             func \u001b[38;5;241m=\u001b[39m \u001b[38;5;28mgetattr\u001b[39m(\u001b[38;5;28mself\u001b[39m, \u001b[38;5;124mf\u001b[39m\u001b[38;5;124m\"\u001b[39m\u001b[38;5;124mset_\u001b[39m\u001b[38;5;132;01m{\u001b[39;00mk\u001b[38;5;132;01m}\u001b[39;00m\u001b[38;5;124m\"\u001b[39m, \u001b[38;5;28;01mNone\u001b[39;00m)\n\u001b[0;32m   1189\u001b[0m             \u001b[38;5;28;01mif\u001b[39;00m \u001b[38;5;129;01mnot\u001b[39;00m \u001b[38;5;28mcallable\u001b[39m(func):\n\u001b[1;32m-> 1190\u001b[0m                 \u001b[38;5;28;01mraise\u001b[39;00m \u001b[38;5;167;01mAttributeError\u001b[39;00m(\n\u001b[0;32m   1191\u001b[0m                     errfmt\u001b[38;5;241m.\u001b[39mformat(\u001b[38;5;28mcls\u001b[39m\u001b[38;5;241m=\u001b[39m\u001b[38;5;28mtype\u001b[39m(\u001b[38;5;28mself\u001b[39m), prop_name\u001b[38;5;241m=\u001b[39mk))\n\u001b[0;32m   1192\u001b[0m             ret\u001b[38;5;241m.\u001b[39mappend(func(v))\n\u001b[0;32m   1193\u001b[0m \u001b[38;5;28;01mif\u001b[39;00m ret:\n",
            "\u001b[1;31mAttributeError\u001b[0m: 'Text' object has no property 'Size'"
          ]
        },
        {
          "data": {
            "image/png": "[encoded data removed]",
            "text/plain": [
              "<Figure size 420x420 with 1 Axes>"
            ]
          },
          "metadata": {},
          "output_type": "display_data"
        }
      ],
      "source": [
        "x = pd.DataFrame( df.groupby(['stroke'])['stroke'].count())\n",
        "\n",
        "# plot\n",
        "fig, ax = plt.subplots(figsize = (6,6), dpi = 70)\n",
        "ax.barh([1], x.stroke[1], height = 0.7, color = '#fe346e')\n",
        "plt.text(-1150, -0.08, 'Healthy', fontname='Serif', weight='bold', fontsize=16, style='normal', color='#512b58')\n",
        "plt.text(5000,-0.08, '95%',{'font':'Serif','weight':'bold' ,'size':'16','color':'#512b58'})\n",
        "ax.barh([0], x.stroke[0], height = 0.7, color = '#512b58')\n",
        "plt.text(-1000,1, 'Stroke', {'font': 'Serif','weight':'bold','Size': '16','style':'normal', 'color':'#fe346e'})\n",
        "plt.text(300,1, '5%',{'font':'Serif', 'weight':'bold','size':'16','color':'#fe346e'})\n",
        "\n",
        "fig.patch.set_facecolor('#f6f5f5')\n",
        "ax.set_facecolor('#f6f5f5')\n",
        "\n",
        "plt.text(-1150,1.77, 'Percentage of People Having Strokes' ,{'font': 'Serif', 'Size': '25','weight':'bold', 'color':'black'})\n",
        "plt.text(4650,1.65, 'Stroke ', {'font': 'Serif','weight':'bold','Size': '16','weight':'bold','style':'normal', 'color':'#fe346e'})\n",
        "plt.text(5650,1.65, '|', {'color':'black' , 'size':'16', 'weight': 'bold'})\n",
        "plt.text(5750,1.65, 'Healthy', {'font': 'Serif','weight':'bold', 'Size': '16','style':'normal', 'weight':'bold','color':'#512b58'})\n",
        "plt.text(-1150,1.5, 'It is a highly unbalanced distribution,\\nand clearly seen that 5 in 100 people are susceptible \\nto heart strokes.', \n",
        "        {'font':'Serif', 'size':'12.5','color': 'black'})\n",
        "\n",
        "ax.axes.get_xaxis().set_visible(False)\n",
        "ax.axes.get_yaxis().set_visible(False)\n",
        "ax.spines['bottom'].set_visible(False)\n",
        "ax.spines['left'].set_visible(True)\n",
        "ax.spines['right'].set_visible(False)\n",
        "ax.spines['top'].set_visible(False)"
      ]
    },
    {
      "cell_type": "markdown",
      "metadata": {},
      "source": [
        "<a id=\"3\"></a>\n",
        "<font color=\"lightseagreen\" size=+1.5><b>4.2.1.Choosing the Right Imputation Strategy: Mean vs. Median</b></font>\n",
        "\n",
        "With approximately **4% of BMI** values missing, simply deleting these rows would cause a loss of valuable data. A better approach is to impute them. The two most common strategies are using the mean or the median value of the column.\n",
        "- **Mean**: The average value. It is simple but **can be easily influenced by extremely high or low values (outliers)**.\n",
        "- **Median**: The middle value of the sorted data. It is known to be **robust to outliers**.\n",
        "\n",
        "To make an informed decision, we must visualize the distribution of the bmi column. This will show us if the data is symmetric or if it is \"skewed\" by the presence of outliers."
      ]
    },
    {
      "cell_type": "code",
      "execution_count": 667,
      "metadata": {},
      "outputs": [
        {
          "data": {
            "image/png": "[encoded data removed]",
            "text/plain": [
              "<Figure size 1200x600 with 1 Axes>"
            ]
          },
          "metadata": {},
          "output_type": "display_data"
        }
      ],
      "source": [
        "# Set up the matplotlib figure\n",
        "plt.figure(figsize=(12, 6))\n",
        "plt.title('Distribution of BMI (with Mean and Median)', fontsize=16)\n",
        "plt.xlabel('BMI')\n",
        "plt.ylabel('Frequency')\n",
        "\n",
        "# Plot a histogram of the BMI data that is not null\n",
        "sns.histplot(df['bmi'].dropna(), kde=True, color='skyblue', binwidth=1, label='BMI Distribution')\n",
        "\n",
        "# Add vertical lines for the mean and median to compare them visually\n",
        "plt.axvline(df['bmi'].mean(), color='red', linestyle='--', linewidth=2, label=f\"Mean: {df['bmi'].mean():.2f}\")\n",
        "plt.axvline(df['bmi'].median(), color='green', linestyle='-', linewidth=2, label=f\"Median: {df['bmi'].median():.2f}\")\n",
        "\n",
        "plt.legend()\n",
        "plt.show()"
      ]
    },
    {
      "cell_type": "markdown",
      "metadata": {},
      "source": [
        "<a id=\"3\"></a>\n",
        "<font color=\"lightseagreen\" size=+1.5><b>4.2.2. Analysis of the Distribution and Final Decision</b></font>\n",
        "\n",
        "The visualization provides critical insights for our decision:\n",
        "\n",
        "1. **Right-Skewed Distribution**: The graph is not symmetrical. There is a \"tail\" extending to the right, which indicates the presence of a minority of patients with very high BMI values **(outliers).**\n",
        "2. **Mean vs. Median Position**: While the two values are numerically close (Mean: 28.89, Median: 28.10), their positions are telling. The Mean (red line) is positioned slightly to the right of the Median (green line).\n",
        "\n",
        "**Conclusion**: This slight difference is visual proof that the outliers in the tail are pulling the Mean towards them. Even though the effect is small, it confirms the Mean is being influenced by extreme values. The Median, located at the center of the main population hump, is unaffected. For this reason, **the Median is the more statistically robust and honest representation of a 'typical' patient.** Therefore, it is the best choice for imputation.\n",
        "\n",
        "We will now fill the missing BMI values using the calculated median."
      ]
    },
    {
      "cell_type": "code",
      "execution_count": 668,
      "metadata": {},
      "outputs": [
        {
          "name": "stdout",
          "output_type": "stream",
          "text": [
            "The calculated median BMI to be used for imputation is: 28.10\n"
          ]
        }
      ],
      "source": [
        "# Calculate the median value of the 'bmi' column\n",
        "bmi_median = df['bmi'].median()\n",
        "print(f\"The calculated median BMI to be used for imputation is: {bmi_median:.2f}\")\n",
        "\n",
        "# Impute the missing values in 'bmi' with the median.\n",
        "# The inplace=True argument modifies the DataFrame directly, so we don't need to re-assign it.\n",
        "df['bmi'].fillna(bmi_median, inplace=True)"
      ]
    },
    {
      "cell_type": "markdown",
      "metadata": {},
      "source": [
        "<a id=\"3\"></a>\n",
        "<font color=\"lightseagreen\" size=+1.5><b>4.2.3.Verification</b></font>"
      ]
    },
    {
      "cell_type": "code",
      "execution_count": 669,
      "metadata": {},
      "outputs": [
        {
          "name": "stdout",
          "output_type": "stream",
          "text": [
            "Number of missing BMI values after imputation: 0\n",
            "Verification successful: The 'bmi' column has no missing values.\n"
          ]
        }
      ],
      "source": [
        "# Check the number of missing values in the 'bmi' column one last time\n",
        "final_missing_count = df['bmi'].isnull().sum()\n",
        "\n",
        "print(f\"Number of missing BMI values after imputation: {final_missing_count}\")\n",
        "\n",
        "if final_missing_count == 0:\n",
        "    print(\"Verification successful: The 'bmi' column has no missing values.\")\n",
        "else:\n",
        "    print(\"Warning: Missing values still exist in the 'bmi' column.\")"
      ]
    },
    {
      "cell_type": "markdown",
      "metadata": {},
      "source": [
        "### 4.3. Data Visualization\n",
        "\n",
        "Next, we want to explore the data.\n",
        "\n",
        "fundamentally we need to understand the relationships within the data.\n",
        "- Which features seem to be important for predicting a stroke?\n",
        "- What do the characteristics of patients who have strokes look like?\n",
        "- Does age makes one more likely to suffer a stroke? What about gender? Or BMI?\n",
        "\n",
        "These are all questions that can be explored and answered with some data visulization.\n",
        "\n",
        "First, let's look at the numeric/continuous variable distribtion"
      ]
    },
    {
      "cell_type": "markdown",
      "metadata": {},
      "source": [
        "#### Numerical and Categorical Features\n",
        "\n",
        "Let's visualize the distributions of other features."
      ]
    },
    {
      "cell_type": "markdown",
      "metadata": {},
      "source": [
        "So we've gained some understanding on the distributiona of our numeric variables, but we can add more information to this plot.\n",
        "\n",
        "Let's see how the distribution of our numeric variables is different for those that have strokes, and those that do not.\n",
        "\n",
        "This could be important for modelling later on"
      ]
    },
    {
      "cell_type": "markdown",
      "metadata": {},
      "source": [
        "#### Target Variable: `stroke`\n",
        "\n",
        "This plot will show us the distribution of our target variable and reveal if we have a class imbalance problem."
      ]
    },
    {
      "cell_type": "code",
      "execution_count": 670,
      "metadata": {},
      "outputs": [
        {
          "data": {
            "image/png": "[encoded data removed]",
            "text/plain": [
              "<Figure size 640x480 with 1 Axes>"
            ]
          },
          "metadata": {},
          "output_type": "display_data"
        },
        {
          "name": "stdout",
          "output_type": "stream",
          "text": [
            "Percentage of each class in the 'stroke' column:\n",
            "stroke\n",
            "0    95.127202\n",
            "1     4.872798\n",
            "Name: proportion, dtype: float64\n",
            "\n",
            "Observation: The dataset is highly imbalanced, with strokes accounting for less than 5% of all cases.\n",
            "This justifies our later use of SMOTE to balance the training data.\n"
          ]
        }
      ],
      "source": [
        "# Create a count plot for the 'stroke' column\n",
        "sns.countplot(x='stroke', data=df)\n",
        "plt.title('Distribution of Stroke Cases')\n",
        "plt.show()\n",
        "\n",
        "# Calculate and print the exact percentage\n",
        "stroke_percentage = df['stroke'].value_counts(normalize=True) * 100\n",
        "print(\"Percentage of each class in the 'stroke' column:\")\n",
        "print(stroke_percentage)\n",
        "\n",
        "print(\"\\nObservation: The dataset is highly imbalanced, with strokes accounting for less than 5% of all cases.\")\n",
        "print(\"This justifies our later use of SMOTE to balance the training data.\")"
      ]
    },
    {
      "cell_type": "markdown",
      "metadata": {},
      "source": [
        "**Observation:** The dataset is **highly imbalanced**. The number of patients who had a stroke (1) is far less than those who did not (0). This is a critical finding and must be addressed before modeling."
      ]
    },
    {
      "cell_type": "code",
      "execution_count": 671,
      "metadata": {},
      "outputs": [
        {
          "data": {
            "image/png": "[encoded data removed]",
            "text/plain": [
              "<Figure size 640x480 with 1 Axes>"
            ]
          },
          "metadata": {},
          "output_type": "display_data"
        },
        {
          "data": {
            "image/png": "[encoded data removed]",
            "text/plain": [
              "<Figure size 640x480 with 1 Axes>"
            ]
          },
          "metadata": {},
          "output_type": "display_data"
        }
      ],
      "source": [
        "# Example: Age distribution\n",
        "sns.histplot(df['age'], kde=True)\n",
        "plt.title('Age Distribution')\n",
        "plt.show()\n",
        "\n",
        "# Example: Smoking Status\n",
        "sns.countplot(x='smoking_status', data=df)\n",
        "plt.title('Smoking Status Distribution')\n",
        "plt.xticks(rotation=45)\n",
        "plt.show()"
      ]
    },
    {
      "cell_type": "markdown",
      "metadata": {},
      "source": [
        "## 5. Data Preprocessing\n",
        "\n",
        "Now we prepare the data for the machine learning models. This involves converting categorical features into numerical ones and splitting the data into training and testing sets."
      ]
    },
    {
      "cell_type": "markdown",
      "metadata": {},
      "source": [
        "### 5.1. Categorical Feature Encoding\n",
        "\n",
        "Machine learning models require all input features to be numeric. We will use **One-Hot Encoding** to convert categorical columns into a numerical format. The `id` column is just an identifier and is not useful for prediction, so we will drop it."
      ]
    },
    {
      "cell_type": "code",
      "execution_count": 672,
      "metadata": {},
      "outputs": [
        {
          "data": {
            "text/html": [
              "<div>\n",
              "<style scoped>\n",
              "    .dataframe tbody tr th:only-of-type {\n",
              "        vertical-align: middle;\n",
              "    }\n",
              "\n",
              "    .dataframe tbody tr th {\n",
              "        vertical-align: top;\n",
              "    }\n",
              "\n",
              "    .dataframe thead th {\n",
              "        text-align: right;\n",
              "    }\n",
              "</style>\n",
              "<table border=\"1\" class=\"dataframe\">\n",
              "  <thead>\n",
              "    <tr style=\"text-align: right;\">\n",
              "      <th></th>\n",
              "      <th>age</th>\n",
              "      <th>hypertension</th>\n",
              "      <th>heart_disease</th>\n",
              "      <th>avg_glucose_level</th>\n",
              "      <th>bmi</th>\n",
              "      <th>stroke</th>\n",
              "      <th>gender_Male</th>\n",
              "      <th>ever_married_Yes</th>\n",
              "      <th>work_type_Never_worked</th>\n",
              "      <th>work_type_Private</th>\n",
              "      <th>work_type_Self-employed</th>\n",
              "      <th>work_type_children</th>\n",
              "      <th>Residence_type_Urban</th>\n",
              "      <th>smoking_status_formerly smoked</th>\n",
              "      <th>smoking_status_never smoked</th>\n",
              "      <th>smoking_status_smokes</th>\n",
              "    </tr>\n",
              "  </thead>\n",
              "  <tbody>\n",
              "    <tr>\n",
              "      <th>0</th>\n",
              "      <td>67.0</td>\n",
              "      <td>0</td>\n",
              "      <td>1</td>\n",
              "      <td>228.69</td>\n",
              "      <td>36.6</td>\n",
              "      <td>1</td>\n",
              "      <td>True</td>\n",
              "      <td>True</td>\n",
              "      <td>False</td>\n",
              "      <td>True</td>\n",
              "      <td>False</td>\n",
              "      <td>False</td>\n",
              "      <td>True</td>\n",
              "      <td>True</td>\n",
              "      <td>False</td>\n",
              "      <td>False</td>\n",
              "    </tr>\n",
              "    <tr>\n",
              "      <th>1</th>\n",
              "      <td>61.0</td>\n",
              "      <td>0</td>\n",
              "      <td>0</td>\n",
              "      <td>202.21</td>\n",
              "      <td>28.1</td>\n",
              "      <td>1</td>\n",
              "      <td>False</td>\n",
              "      <td>True</td>\n",
              "      <td>False</td>\n",
              "      <td>False</td>\n",
              "      <td>True</td>\n",
              "      <td>False</td>\n",
              "      <td>False</td>\n",
              "      <td>False</td>\n",
              "      <td>True</td>\n",
              "      <td>False</td>\n",
              "    </tr>\n",
              "    <tr>\n",
              "      <th>2</th>\n",
              "      <td>80.0</td>\n",
              "      <td>0</td>\n",
              "      <td>1</td>\n",
              "      <td>105.92</td>\n",
              "      <td>32.5</td>\n",
              "      <td>1</td>\n",
              "      <td>True</td>\n",
              "      <td>True</td>\n",
              "      <td>False</td>\n",
              "      <td>True</td>\n",
              "      <td>False</td>\n",
              "      <td>False</td>\n",
              "      <td>False</td>\n",
              "      <td>False</td>\n",
              "      <td>True</td>\n",
              "      <td>False</td>\n",
              "    </tr>\n",
              "    <tr>\n",
              "      <th>3</th>\n",
              "      <td>49.0</td>\n",
              "      <td>0</td>\n",
              "      <td>0</td>\n",
              "      <td>171.23</td>\n",
              "      <td>34.4</td>\n",
              "      <td>1</td>\n",
              "      <td>False</td>\n",
              "      <td>True</td>\n",
              "      <td>False</td>\n",
              "      <td>True</td>\n",
              "      <td>False</td>\n",
              "      <td>False</td>\n",
              "      <td>True</td>\n",
              "      <td>False</td>\n",
              "      <td>False</td>\n",
              "      <td>True</td>\n",
              "    </tr>\n",
              "    <tr>\n",
              "      <th>4</th>\n",
              "      <td>79.0</td>\n",
              "      <td>1</td>\n",
              "      <td>0</td>\n",
              "      <td>174.12</td>\n",
              "      <td>24.0</td>\n",
              "      <td>1</td>\n",
              "      <td>False</td>\n",
              "      <td>True</td>\n",
              "      <td>False</td>\n",
              "      <td>False</td>\n",
              "      <td>True</td>\n",
              "      <td>False</td>\n",
              "      <td>False</td>\n",
              "      <td>False</td>\n",
              "      <td>True</td>\n",
              "      <td>False</td>\n",
              "    </tr>\n",
              "  </tbody>\n",
              "</table>\n",
              "</div>"
            ],
            "text/plain": [
              "    age  hypertension  heart_disease  avg_glucose_level   bmi  stroke  \\\n",
              "0  67.0             0              1             228.69  36.6       1   \n",
              "1  61.0             0              0             202.21  28.1       1   \n",
              "2  80.0             0              1             105.92  32.5       1   \n",
              "3  49.0             0              0             171.23  34.4       1   \n",
              "4  79.0             1              0             174.12  24.0       1   \n",
              "\n",
              "   gender_Male  ever_married_Yes  work_type_Never_worked  work_type_Private  \\\n",
              "0         True              True                   False               True   \n",
              "1        False              True                   False              False   \n",
              "2         True              True                   False               True   \n",
              "3        False              True                   False               True   \n",
              "4        False              True                   False              False   \n",
              "\n",
              "   work_type_Self-employed  work_type_children  Residence_type_Urban  \\\n",
              "0                    False               False                  True   \n",
              "1                     True               False                 False   \n",
              "2                    False               False                 False   \n",
              "3                    False               False                  True   \n",
              "4                     True               False                 False   \n",
              "\n",
              "   smoking_status_formerly smoked  smoking_status_never smoked  \\\n",
              "0                            True                        False   \n",
              "1                           False                         True   \n",
              "2                           False                         True   \n",
              "3                           False                        False   \n",
              "4                           False                         True   \n",
              "\n",
              "   smoking_status_smokes  \n",
              "0                  False  \n",
              "1                  False  \n",
              "2                  False  \n",
              "3                   True  \n",
              "4                  False  "
            ]
          },
          "execution_count": 672,
          "metadata": {},
          "output_type": "execute_result"
        }
      ],
      "source": [
        "#  handle the 'Other' gender category \n",
        "df = df[df['gender'] != 'Other']\n",
        "\n",
        "# Drop the 'id' column as it's not a predictive feature\n",
        "df = df.drop('id', axis=1)\n",
        "\n",
        "# Use pandas get_dummies to perform one-hot encoding on categorical features\n",
        "df_processed = pd.get_dummies(df, drop_first=True)\n",
        "\n",
        "# Display the first few rows of the processed dataframe\n",
        "df_processed.head()"
      ]
    },
    {
      "cell_type": "markdown",
      "metadata": {},
      "source": [
        "### 5.2. Train-Test Split\n",
        "\n",
        "We split the data into a training set (to build the model) and a testing set (to evaluate the model on unseen data)."
      ]
    },
    {
      "cell_type": "code",
      "execution_count": 673,
      "metadata": {},
      "outputs": [],
      "source": [
        "# Define our features (X) and target (y)\n",
        "X = df_processed.drop('stroke', axis=1)\n",
        "y = df_processed['stroke']\n",
        "\n",
        "# Split the data into 80% training and 20% testing\n",
        "# We use 'stratify=y' to ensure the proportion of stroke vs. non-stroke is the same in train and test sets\n",
        "X_train, X_test, y_train, y_test = train_test_split(X, y, test_size=0.2, random_state=42, stratify=y)"
      ]
    },
    {
      "cell_type": "markdown",
      "metadata": {},
      "source": [
        "### 5.3. Handling Class Imbalance with SMOTE\n",
        "\n",
        "To solve the imbalance problem, we will use the **Synthetic Minority Over-sampling Technique (SMOTE)**. SMOTE creates new, synthetic data points for the minority class (stroke cases).\n",
        "\n",
        "**Crucial Note:** We only apply SMOTE to the **training data**. We want to evaluate our model on the original, real-world distribution of the test data."
      ]
    },
    {
      "cell_type": "code",
      "execution_count": 674,
      "metadata": {},
      "outputs": [
        {
          "name": "stdout",
          "output_type": "stream",
          "text": [
            "Before SMOTE: stroke\n",
            "0    3888\n",
            "1     199\n",
            "Name: count, dtype: int64\n",
            "After SMOTE: stroke\n",
            "0    3888\n",
            "1    3888\n",
            "Name: count, dtype: int64\n"
          ]
        }
      ],
      "source": [
        "smote = SMOTE(random_state=42)\n",
        "X_train_smote, y_train_smote = smote.fit_resample(X_train, y_train)\n",
        "\n",
        "# Check the distribution of the target variable in the new balanced training set\n",
        "print(\"Before SMOTE:\", y_train.value_counts())\n",
        "print(\"After SMOTE:\", y_train_smote.value_counts())"
      ]
    },
    {
      "cell_type": "markdown",
      "metadata": {},
      "source": [
        "## 6. Model Training and Evaluation\n",
        "\n",
        "Now we will train our models on the SMOTE-balanced training data and evaluate them on the original, unbalanced test data. For each model, we will look at key metrics like F1-Score, Precision, Recall, and ROC-AUC, which are more informative than accuracy for imbalanced datasets."
      ]
    },
    {
      "cell_type": "code",
      "execution_count": 675,
      "metadata": {},
      "outputs": [],
      "source": [
        "# Create a dictionary to store the results of each model\n",
        "results = {}"
      ]
    },
    {
      "cell_type": "markdown",
      "metadata": {},
      "source": [
        "### 6.1. Model 1: Logistic Regression (Baseline)\n",
        "\n",
        "This is a simple, fundamental classification algorithm that serves as a good baseline."
      ]
    },
    {
      "cell_type": "code",
      "execution_count": 676,
      "metadata": {},
      "outputs": [
        {
          "name": "stdout",
          "output_type": "stream",
          "text": [
            "Logistic Regression Classification Report:\n",
            "              precision    recall  f1-score   support\n",
            "\n",
            "           0       0.97      0.86      0.91       972\n",
            "           1       0.14      0.44      0.21        50\n",
            "\n",
            "    accuracy                           0.84      1022\n",
            "   macro avg       0.55      0.65      0.56      1022\n",
            "weighted avg       0.93      0.84      0.87      1022\n",
            "\n"
          ]
        }
      ],
      "source": [
        "# 1. Initialize and train the model\n",
        "log_reg = LogisticRegression()\n",
        "log_reg.fit(X_train_smote, y_train_smote)\n",
        "\n",
        "# 2. Make predictions on the test set\n",
        "y_pred_log_reg = log_reg.predict(X_test)\n",
        "\n",
        "# 3. Evaluate the model\n",
        "print(\"Logistic Regression Classification Report:\")\n",
        "print(classification_report(y_test, y_pred_log_reg))\n",
        "\n",
        "# 4. Store results\n",
        "results['Logistic Regression'] = {\n",
        "    'F1-Score': f1_score(y_test, y_pred_log_reg),\n",
        "    'Precision': precision_score(y_test, y_pred_log_reg),\n",
        "    'Recall': recall_score(y_test, y_pred_log_reg),\n",
        "    'ROC-AUC': roc_auc_score(y_test, y_pred_log_reg)\n",
        "}"
      ]
    },
    {
      "cell_type": "markdown",
      "metadata": {},
      "source": [
        "### 6.2. Model 2: K-Nearest Neighbors (KNN)\n",
        "\n",
        "Now, follow the same 4 steps as above for the KNN model."
      ]
    },
    {
      "cell_type": "code",
      "execution_count": 677,
      "metadata": {},
      "outputs": [
        {
          "name": "stdout",
          "output_type": "stream",
          "text": [
            "K-Nearest Neighbors Classification Report:\n",
            "              precision    recall  f1-score   support\n",
            "\n",
            "           0       0.97      0.83      0.89       972\n",
            "           1       0.13      0.52      0.21        50\n",
            "\n",
            "    accuracy                           0.81      1022\n",
            "   macro avg       0.55      0.67      0.55      1022\n",
            "weighted avg       0.93      0.81      0.86      1022\n",
            "\n"
          ]
        }
      ],
      "source": [
        "# 1. Initialize and train the model\n",
        "# We choose n_neighbors=5 as a common starting point for KNN.\n",
        "knn = KNeighborsClassifier(n_neighbors=5)\n",
        "knn.fit(X_train_smote, y_train_smote)\n",
        "\n",
        "# 2. Make predictions on the test set\n",
        "y_pred_knn = knn.predict(X_test)\n",
        "\n",
        "# 3. Evaluate the model\n",
        "print(\"K-Nearest Neighbors Classification Report:\")\n",
        "print(classification_report(y_test, y_pred_knn))\n",
        "\n",
        "# 4. Store results in our dictionary for later comparison\n",
        "results['K-Nearest Neighbors'] = {\n",
        "    'F1-Score': f1_score(y_test, y_pred_knn),\n",
        "    'Precision': precision_score(y_test, y_pred_knn),\n",
        "    'Recall': recall_score(y_test, y_pred_knn),\n",
        "    'ROC-AUC': roc_auc_score(y_test, y_pred_knn)\n",
        "} "
      ]
    },
    {
      "cell_type": "markdown",
      "metadata": {},
      "source": [
        "### 6.3. Model 3: Decision Tree\n",
        "\n",
        "Follow the same pattern for the Decision Tree model."
      ]
    },
    {
      "cell_type": "code",
      "execution_count": 678,
      "metadata": {},
      "outputs": [
        {
          "name": "stdout",
          "output_type": "stream",
          "text": [
            "Decision Tree Classification Report:\n",
            "              precision    recall  f1-score   support\n",
            "\n",
            "           0       0.95      0.91      0.93       972\n",
            "           1       0.08      0.16      0.11        50\n",
            "\n",
            "    accuracy                           0.87      1022\n",
            "   macro avg       0.52      0.53      0.52      1022\n",
            "weighted avg       0.91      0.87      0.89      1022\n",
            "\n"
          ]
        }
      ],
      "source": [
        "# 1. Initialize and train the model\n",
        "# We set random_state=42 to ensure we get the same results every time we run the code.\n",
        "dt = DecisionTreeClassifier(random_state=42)\n",
        "dt.fit(X_train_smote, y_train_smote)\n",
        "\n",
        "# 2. Make predictions on the test set\n",
        "y_pred_dt = dt.predict(X_test)\n",
        "\n",
        "# 3. Evaluate the model\n",
        "print(\"Decision Tree Classification Report:\")\n",
        "print(classification_report(y_test, y_pred_dt))\n",
        "\n",
        "# 4. Store results for our final comparison\n",
        "results['Decision Tree'] = {\n",
        "    'F1-Score': f1_score(y_test, y_pred_dt),\n",
        "    'Precision': precision_score(y_test, y_pred_dt),\n",
        "    'Recall': recall_score(y_test, y_pred_dt),\n",
        "    'ROC-AUC': roc_auc_score(y_test, y_pred_dt)\n",
        "}\n"
      ]
    },
    {
      "cell_type": "markdown",
      "metadata": {},
      "source": [
        "### 6.4. Model 4: Random Forest (Ensemble)\n",
        "\n",
        "This is our first ensemble model."
      ]
    },
    {
      "cell_type": "code",
      "execution_count": 679,
      "metadata": {},
      "outputs": [
        {
          "name": "stdout",
          "output_type": "stream",
          "text": [
            "Random Forest Classification Report:\n",
            "              precision    recall  f1-score   support\n",
            "\n",
            "           0       0.96      0.96      0.96       972\n",
            "           1       0.18      0.16      0.17        50\n",
            "\n",
            "    accuracy                           0.92      1022\n",
            "   macro avg       0.57      0.56      0.57      1022\n",
            "weighted avg       0.92      0.92      0.92      1022\n",
            "\n"
          ]
        }
      ],
      "source": [
        "# 1. Initialize and train the model\n",
        "# random_state ensures the results are reproducible.\n",
        "rf = RandomForestClassifier(random_state=42)\n",
        "rf.fit(X_train_smote, y_train_smote)\n",
        "\n",
        "# 2. Make predictions on the test set\n",
        "y_pred_rf = rf.predict(X_test)\n",
        "\n",
        "# 3. Evaluate the model\n",
        "print(\"Random Forest Classification Report:\")\n",
        "print(classification_report(y_test, y_pred_rf))\n",
        "\n",
        "# 4. Store results for our final comparison\n",
        "results['Random Forest'] = {\n",
        "    'F1-Score': f1_score(y_test, y_pred_rf),\n",
        "    'Precision': precision_score(y_test, y_pred_rf),\n",
        "    'Recall': recall_score(y_test, y_pred_rf),\n",
        "    'ROC-AUC': roc_auc_score(y_test, y_pred_rf)\n",
        "}"
      ]
    },
    {
      "cell_type": "markdown",
      "metadata": {},
      "source": [
        "### 6.5. Model 5: Gradient Boosting (Ensemble)\n",
        "\n",
        "This is another powerful ensemble model."
      ]
    },
    {
      "cell_type": "code",
      "execution_count": 680,
      "metadata": {},
      "outputs": [
        {
          "name": "stdout",
          "output_type": "stream",
          "text": [
            "Gradient Boosting Classification Report:\n",
            "              precision    recall  f1-score   support\n",
            "\n",
            "           0       0.97      0.89      0.93       972\n",
            "           1       0.16      0.40      0.23        50\n",
            "\n",
            "    accuracy                           0.87      1022\n",
            "   macro avg       0.56      0.65      0.58      1022\n",
            "weighted avg       0.93      0.87      0.89      1022\n",
            "\n"
          ]
        }
      ],
      "source": [
        "# 1. Initialize and train the model\n",
        "gb = GradientBoostingClassifier(random_state=42)\n",
        "gb.fit(X_train_smote, y_train_smote)\n",
        "\n",
        "# 2. Make predictions on the test set\n",
        "y_pred_gb = gb.predict(X_test)\n",
        "\n",
        "# 3. Evaluate the model\n",
        "print(\"Gradient Boosting Classification Report:\")\n",
        "print(classification_report(y_test, y_pred_gb))\n",
        "\n",
        "# 4. Store results for our final comparison\n",
        "results['Gradient Boosting'] = {\n",
        "    'F1-Score': f1_score(y_test, y_pred_gb),\n",
        "    'Precision': precision_score(y_test, y_pred_gb),\n",
        "    'Recall': recall_score(y_test, y_pred_gb),\n",
        "    'ROC-AUC': roc_auc_score(y_test, y_pred_gb)\n",
        "}\n"
      ]
    },
    {
      "cell_type": "markdown",
      "metadata": {},
      "source": [
        "## 7. Model Comparison\n",
        "\n",
        "Finally, we will compile the results from all models into a single DataFrame and visualize them to easily compare their performance."
      ]
    },
    {
      "cell_type": "code",
      "execution_count": 681,
      "metadata": {},
      "outputs": [
        {
          "name": "stdout",
          "output_type": "stream",
          "text": [
            "Model Performance Comparison:\n"
          ]
        },
        {
          "data": {
            "text/html": [
              "<div>\n",
              "<style scoped>\n",
              "    .dataframe tbody tr th:only-of-type {\n",
              "        vertical-align: middle;\n",
              "    }\n",
              "\n",
              "    .dataframe tbody tr th {\n",
              "        vertical-align: top;\n",
              "    }\n",
              "\n",
              "    .dataframe thead th {\n",
              "        text-align: right;\n",
              "    }\n",
              "</style>\n",
              "<table border=\"1\" class=\"dataframe\">\n",
              "  <thead>\n",
              "    <tr style=\"text-align: right;\">\n",
              "      <th></th>\n",
              "      <th>F1-Score</th>\n",
              "      <th>Precision</th>\n",
              "      <th>Recall</th>\n",
              "      <th>ROC-AUC</th>\n",
              "    </tr>\n",
              "  </thead>\n",
              "  <tbody>\n",
              "    <tr>\n",
              "      <th>Logistic Regression</th>\n",
              "      <td>0.208531</td>\n",
              "      <td>0.136646</td>\n",
              "      <td>0.44</td>\n",
              "      <td>0.648498</td>\n",
              "    </tr>\n",
              "    <tr>\n",
              "      <th>K-Nearest Neighbors</th>\n",
              "      <td>0.212245</td>\n",
              "      <td>0.133333</td>\n",
              "      <td>0.52</td>\n",
              "      <td>0.673066</td>\n",
              "    </tr>\n",
              "    <tr>\n",
              "      <th>Decision Tree</th>\n",
              "      <td>0.108844</td>\n",
              "      <td>0.082474</td>\n",
              "      <td>0.16</td>\n",
              "      <td>0.534218</td>\n",
              "    </tr>\n",
              "    <tr>\n",
              "      <th>Random Forest</th>\n",
              "      <td>0.170213</td>\n",
              "      <td>0.181818</td>\n",
              "      <td>0.16</td>\n",
              "      <td>0.561481</td>\n",
              "    </tr>\n",
              "    <tr>\n",
              "      <th>Gradient Boosting</th>\n",
              "      <td>0.229885</td>\n",
              "      <td>0.161290</td>\n",
              "      <td>0.40</td>\n",
              "      <td>0.646502</td>\n",
              "    </tr>\n",
              "  </tbody>\n",
              "</table>\n",
              "</div>"
            ],
            "text/plain": [
              "                     F1-Score  Precision  Recall   ROC-AUC\n",
              "Logistic Regression  0.208531   0.136646    0.44  0.648498\n",
              "K-Nearest Neighbors  0.212245   0.133333    0.52  0.673066\n",
              "Decision Tree        0.108844   0.082474    0.16  0.534218\n",
              "Random Forest        0.170213   0.181818    0.16  0.561481\n",
              "Gradient Boosting    0.229885   0.161290    0.40  0.646502"
            ]
          },
          "execution_count": 681,
          "metadata": {},
          "output_type": "execute_result"
        }
      ],
      "source": [
        "# Convert the results dictionary to a pandas DataFrame\n",
        "results_df = pd.DataFrame(results).T # .T transposes the DataFrame for better readability\n",
        "\n",
        "print(\"Model Performance Comparison:\")\n",
        "results_df"
      ]
    },
    {
      "cell_type": "code",
      "execution_count": 682,
      "metadata": {},
      "outputs": [
        {
          "data": {
            "image/png": "[encoded data removed]",
            "text/plain": [
              "<Figure size 640x480 with 1 Axes>"
            ]
          },
          "metadata": {},
          "output_type": "display_data"
        }
      ],
      "source": [
        "# Visualize the comparison, focusing on F1-Score\n",
        "results_df['F1-Score'].sort_values(ascending=False).plot(kind='bar')\n",
        "plt.title('Comparison of Model F1-Scores')\n",
        "plt.ylabel('F1-Score')\n",
        "plt.xticks(rotation=45)\n",
        "plt.show()"
      ]
    },
    {
      "cell_type": "markdown",
      "metadata": {},
      "source": [
        "## 8. Conclusion\n",
        "\n",
        "In this section, you will write your final report based on the results.\n",
        "\n",
        "*   **Summary of Work:** Briefly restate the project's objective and the steps you took (EDA, preprocessing with SMOTE, model training).\n",
        "*   **Best Model:** Identify which model performed the best. Justify your choice by referring to the evaluation metrics (e.g., \"The Random Forest model was chosen as the best-performing model due to its highest F1-Score of [value] and ROC-AUC score of [value], indicating a strong balance between precision and recall.\").\n",
        "*   **Insights:** Discuss the results. Did the ensemble models (Random Forest, Gradient Boosting) perform better than the basic models (Logistic Regression, KNN)? Why do you think that is? (Hint: Ensembles combine multiple models to reduce errors and improve generalization).\n",
        "*   **Limitations & Future Work:** Mention any limitations (e.g., the dataset size is still relatively small) and suggest what could be done next (e.g., collecting more data, trying more advanced models like XGBoost, or performing hyperparameter tuning to optimize the best model)."
      ]
    }
  ],
  "metadata": {
    "kernelspec": {
      "display_name": "stroke-project",
      "language": "python",
      "name": "python3"
    },
    "language_info": {
      "codemirror_mode": {
        "name": "ipython",
        "version": 3
      },
      "file_extension": ".py",
      "mimetype": "text/x-python",
      "name": "python",
      "nbconvert_exporter": "python",
      "pygments_lexer": "ipython3",
      "version": "3.9.23"
    }
  },
  "nbformat": 4,
  "nbformat_minor": 4
}
